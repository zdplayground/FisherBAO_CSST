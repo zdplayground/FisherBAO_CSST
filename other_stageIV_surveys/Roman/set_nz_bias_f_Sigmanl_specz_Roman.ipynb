{
 "cells": [
  {
   "cell_type": "markdown",
   "id": "da289849-7465-457f-a729-229e191ebafe",
   "metadata": {},
   "source": [
    "## From Wang et al. 2022 (The high latitude spectroscopic survey on the Nancy Grace Roman Space Telescope), we make a file for the galaxy number density distribution. --08-18-2023\n",
    "Take reference from /home/zjding/csst_bao/fisher_pkmu/parameter_preparation/Sigma_nl_linear_order.ipynb"
   ]
  },
  {
   "cell_type": "markdown",
   "id": "0ad83bfe-a2e8-461e-93f7-a25b7565fb57",
   "metadata": {},
   "source": [
    "Derive the relation between the angular number density $\\frac{dN}{dzd\\Omega}$ and volume number density $dN/dV$:\n",
    "\\begin{align}\n",
    "f_1 = \\frac{dN}{dzd\\Omega}\\\\\n",
    "f_2 = dN/dV = \\frac{dN}{s^2d\\Omega ds}=f_1 \\frac{dz}{s^2ds}.\n",
    "\\end{align}\n",
    "We have \n",
    "\\begin{align}\n",
    "s = \\int\\frac{cdz}{H_0\\sqrt{(1+z)^3 \\Omega_m + \\Omega_{\\Lambda}}},\n",
    "\\end{align}\n",
    "hence,\n",
    "\\begin{align}\n",
    "f_2 = \\frac{f_1}{c s^2} H_0\\sqrt{(1+z)^3 \\Omega_m + \\Omega_{\\Lambda}}.\n",
    "\\end{align}"
   ]
  },
  {
   "cell_type": "code",
   "execution_count": 1,
   "id": "95f3a2fd-a17f-4481-aff6-15369b5e017e",
   "metadata": {
    "execution": {
     "iopub.execute_input": "2023-08-20T22:54:54.442260Z",
     "iopub.status.busy": "2023-08-20T22:54:54.442122Z",
     "iopub.status.idle": "2023-08-20T22:54:55.323930Z",
     "shell.execute_reply": "2023-08-20T22:54:55.323365Z",
     "shell.execute_reply.started": "2023-08-20T22:54:54.442241Z"
    },
    "tags": []
   },
   "outputs": [
    {
     "name": "stdout",
     "output_type": "stream",
     "text": [
      "Populating the interactive namespace from numpy and matplotlib\n"
     ]
    }
   ],
   "source": [
    "%pylab inline"
   ]
  },
  {
   "cell_type": "code",
   "execution_count": 2,
   "id": "dbb341b1-768f-4291-bb5a-56f97a626431",
   "metadata": {
    "execution": {
     "iopub.execute_input": "2023-08-20T22:54:55.328356Z",
     "iopub.status.busy": "2023-08-20T22:54:55.328218Z",
     "iopub.status.idle": "2023-08-20T22:54:55.844680Z",
     "shell.execute_reply": "2023-08-20T22:54:55.844179Z",
     "shell.execute_reply.started": "2023-08-20T22:54:55.328339Z"
    },
    "tags": []
   },
   "outputs": [],
   "source": [
    "import sys\n",
    "sys.path.append(\"/home/zjding/DESI_mockchallenge/bao_fit/pymodule_barn\")\n",
    "from mcmc_funs import growth_factor\n",
    "from scipy import interpolate, integrate"
   ]
  },
  {
   "cell_type": "code",
   "execution_count": 3,
   "id": "d7598973-270c-45b1-819e-41c55241e8b5",
   "metadata": {
    "execution": {
     "iopub.execute_input": "2023-08-20T22:54:55.846105Z",
     "iopub.status.busy": "2023-08-20T22:54:55.845950Z",
     "iopub.status.idle": "2023-08-20T22:54:55.852246Z",
     "shell.execute_reply": "2023-08-20T22:54:55.851836Z",
     "shell.execute_reply.started": "2023-08-20T22:54:55.846087Z"
    },
    "tags": []
   },
   "outputs": [],
   "source": [
    "def Sigma2_dd_integrand(k, splPlin, R_bao, Sigma2_sm):\n",
    "    Pk_lin_0 = splPlin(k)\n",
    "    Sm_kernel = np.exp(-0.5*k*k * Sigma2_sm)        # 1/2 factor consistent with the convention of the smoothing factor in MC\n",
    "    return Pk_lin_0*(1.0-Sm_kernel)**2.0\n",
    "\n",
    "def cal_growth_rate(a_z, omega_m):\n",
    "    a_z_p = a_z+0.01\n",
    "    a_z_m = a_z-0.01\n",
    "    D_p = growth_factor(1./a_z_p-1, omega_m)\n",
    "    D_m = growth_factor(1./a_z_m-1, omega_m)\n",
    "    f = (np.log(D_p)-np.log(D_m))/(np.log(a_z_p) - np.log(a_z_m))\n",
    "    return f\n",
    "\n",
    "def comoving_dis_fun(z, Omega_m, speed_c):\n",
    "    res = speed_c/(100.0 * (Omega_m*(1+z)**3 + (1-Omega_m))**0.5) \n",
    "    return res\n",
    "\n",
    "def volden_from_surfaceden(f1, z, Omega_m, speed_c):\n",
    "    s = integrate.quad(comoving_dis_fun, 0., z, args=(Omega_m, speed_c))[0]\n",
    "    f2 = f1 / (s**2.0 * comoving_dis_fun(z, Omega_m, speed_c))\n",
    "    return f2"
   ]
  },
  {
   "cell_type": "code",
   "execution_count": 4,
   "id": "6375af4f-b9ec-40a3-ac0d-20ca628466d5",
   "metadata": {
    "execution": {
     "iopub.execute_input": "2023-08-20T22:54:55.853230Z",
     "iopub.status.busy": "2023-08-20T22:54:55.853090Z",
     "iopub.status.idle": "2023-08-20T22:54:56.073331Z",
     "shell.execute_reply": "2023-08-20T22:54:56.072839Z",
     "shell.execute_reply.started": "2023-08-20T22:54:55.853212Z"
    },
    "tags": []
   },
   "outputs": [
    {
     "name": "stdout",
     "output_type": "stream",
     "text": [
      "41252.96124941928\n"
     ]
    }
   ],
   "source": [
    "Omega_m = 0.3075\n",
    "speed_c = 299792.458    # speed of light, km/s\n",
    "skyarea_total = 4*np.pi * (180./np.pi)**2.0    # unit: deg^2\n",
    "print(skyarea_total)\n",
    "deg2_per_str = 1/(180./np.pi)**2.0    # deg^2 to steradian "
   ]
  },
  {
   "cell_type": "markdown",
   "id": "03b15631-8264-489f-9366-d89cac05d120",
   "metadata": {},
   "source": [
    "## below is based on Table 1 and Table 2 with dust model Av=1.92 of Wang et al. 2022"
   ]
  },
  {
   "cell_type": "code",
   "execution_count": 5,
   "id": "444b1344-5c92-4f9b-b088-f3c4f9050b14",
   "metadata": {
    "execution": {
     "iopub.execute_input": "2023-08-20T22:54:56.074179Z",
     "iopub.status.busy": "2023-08-20T22:54:56.074029Z",
     "iopub.status.idle": "2023-08-20T22:54:56.083677Z",
     "shell.execute_reply": "2023-08-20T22:54:56.083240Z",
     "shell.execute_reply.started": "2023-08-20T22:54:56.074159Z"
    },
    "tags": []
   },
   "outputs": [
    {
     "name": "stdout",
     "output_type": "stream",
     "text": [
      "[1.  1.1 1.2 1.3 1.4 1.5 1.6 1.7 1.8 1.9 2.  2.1 2.2 2.3 2.4 2.5 2.6 2.7\n",
      " 2.8 2.9] [1.1 1.2 1.3 1.4 1.5 1.6 1.7 1.8 1.9 2.  2.1 2.2 2.3 2.4 2.5 2.6 2.7 2.8\n",
      " 2.9 3. ]\n"
     ]
    }
   ],
   "source": [
    "zmin_array = np.arange(1.0, 2.91, 0.1)\n",
    "zmax_array = np.arange(1.1, 3.01, 0.1)\n",
    "print(zmin_array, zmax_array)\n",
    "dN_dOmegadz_Halpha = np.array([12120, 10620, 7537, 8217, 6410, 4790, 3887, 2997, 1640, 1367])  # dN/dz per square degree for Halpha ELGs\n",
    "dN_dOmegadz_OIII = np.array([555, 345, 395, 522, 267, 275, 160, 140, 195, 122])    # dN/dz per square degree for OIII\n",
    "dN_dOmegadz = np.append(dN_dOmegadz_Halpha, dN_dOmegadz_OIII)\n",
    "dN_dstrdz = dN_dOmegadz /deg2_per_str"
   ]
  },
  {
   "cell_type": "code",
   "execution_count": 6,
   "id": "3fd01e84-9a84-4430-89c2-2b10733a42a8",
   "metadata": {
    "execution": {
     "iopub.execute_input": "2023-08-20T22:54:56.084440Z",
     "iopub.status.busy": "2023-08-20T22:54:56.084297Z",
     "iopub.status.idle": "2023-08-20T22:54:56.091222Z",
     "shell.execute_reply": "2023-08-20T22:54:56.090818Z",
     "shell.execute_reply.started": "2023-08-20T22:54:56.084424Z"
    },
    "tags": []
   },
   "outputs": [],
   "source": [
    "zmid_array = (zmin_array + zmax_array)/2.0\n",
    "spl_f1 = interpolate.InterpolatedUnivariateSpline(zmid_array, dN_dstrdz)"
   ]
  },
  {
   "cell_type": "code",
   "execution_count": 7,
   "id": "ccba6a23-7d8e-4642-ac6f-400c0bc719ff",
   "metadata": {
    "execution": {
     "iopub.execute_input": "2023-08-20T22:54:56.091940Z",
     "iopub.status.busy": "2023-08-20T22:54:56.091808Z",
     "iopub.status.idle": "2023-08-20T22:54:56.537550Z",
     "shell.execute_reply": "2023-08-20T22:54:56.537101Z",
     "shell.execute_reply.started": "2023-08-20T22:54:56.091925Z"
    },
    "tags": []
   },
   "outputs": [
    {
     "data": {
      "image/png": "[encoded data removed]",
      "text/plain": [
       "<Figure size 432x288 with 1 Axes>"
      ]
     },
     "metadata": {
      "needs_background": "light"
     },
     "output_type": "display_data"
    }
   ],
   "source": [
    "plt.plot(zmid_array, spl_f1(zmid_array) * deg2_per_str)\n",
    "plt.yscale(\"log\")"
   ]
  },
  {
   "cell_type": "code",
   "execution_count": 8,
   "id": "ab25c890-4276-4fbe-9fda-db23798b787d",
   "metadata": {
    "execution": {
     "iopub.execute_input": "2023-08-20T22:54:56.538392Z",
     "iopub.status.busy": "2023-08-20T22:54:56.538247Z",
     "iopub.status.idle": "2023-08-20T22:54:56.541338Z",
     "shell.execute_reply": "2023-08-20T22:54:56.540930Z",
     "shell.execute_reply.started": "2023-08-20T22:54:56.538374Z"
    },
    "tags": []
   },
   "outputs": [],
   "source": [
    "zmin_sel = np.array([1.0, 1.2, 1.4, 1.6, 2.0, 2.4])\n",
    "zmax_sel = np.array([1.2, 1.4, 1.6, 2.0, 2.4, 3.0])\n",
    "zmid_sel = (zmin_sel+zmax_sel)/2.0"
   ]
  },
  {
   "cell_type": "code",
   "execution_count": 9,
   "id": "fd1d3351-7137-43f4-8627-618374c30793",
   "metadata": {
    "execution": {
     "iopub.execute_input": "2023-08-20T22:54:56.542060Z",
     "iopub.status.busy": "2023-08-20T22:54:56.541925Z",
     "iopub.status.idle": "2023-08-20T22:54:56.559048Z",
     "shell.execute_reply": "2023-08-20T22:54:56.558645Z",
     "shell.execute_reply.started": "2023-08-20T22:54:56.542044Z"
    },
    "tags": []
   },
   "outputs": [],
   "source": [
    "nz_list = []\n",
    "for z in zmid_sel:\n",
    "    nz = volden_from_surfaceden(spl_f1(z), z, Omega_m, speed_c)\n",
    "    nz_list.append(nz)\n",
    "n_z = np.array(nz_list)"
   ]
  },
  {
   "cell_type": "code",
   "execution_count": 10,
   "id": "2f4a3c21-26ee-4875-9a7e-ae53f0cd0978",
   "metadata": {
    "execution": {
     "iopub.execute_input": "2023-08-20T22:54:56.559765Z",
     "iopub.status.busy": "2023-08-20T22:54:56.559632Z",
     "iopub.status.idle": "2023-08-20T22:54:56.570584Z",
     "shell.execute_reply": "2023-08-20T22:54:56.570166Z",
     "shell.execute_reply.started": "2023-08-20T22:54:56.559748Z"
    },
    "tags": []
   },
   "outputs": [
    {
     "name": "stdout",
     "output_type": "stream",
     "text": [
      "[0.88775796 0.911352   0.92907736 0.94806607 0.96436808 0.97654152] [1.49 1.67 1.85 2.12 2.7  3.2 ]\n"
     ]
    }
   ],
   "source": [
    "## calculate growth rate\n",
    "a_array = 1./(1+zmid_sel)\n",
    "f_array = cal_growth_rate(a_array, Omega_m)\n",
    "bias_Halpha = 0.9*zmid_sel[zmid_sel<2.0] + 0.5    # for 1.0<z<2.0, it is different when z>2.0, see Fig. 6\n",
    "bias_OIII = zmid_sel[zmid_sel>2.0] + 0.5\n",
    "bias_array = np.append(bias_Halpha, bias_OIII)\n",
    "print(f_array, bias_array)"
   ]
  },
  {
   "cell_type": "code",
   "execution_count": 11,
   "id": "ce331c85-d8c6-4f46-8d48-fdbafc2f9faf",
   "metadata": {
    "execution": {
     "iopub.execute_input": "2023-08-20T22:54:56.571323Z",
     "iopub.status.busy": "2023-08-20T22:54:56.571188Z",
     "iopub.status.idle": "2023-08-20T22:54:56.589677Z",
     "shell.execute_reply": "2023-08-20T22:54:56.589257Z",
     "shell.execute_reply.started": "2023-08-20T22:54:56.571305Z"
    }
   },
   "outputs": [],
   "source": [
    "# input (theoretical) linear power spectrum\n",
    "ifile_pklin = \"/home/zjding/DESI_mockchallenge/bao_fit/stage2_3Gpc_postrec/data/plin_model/Pk_Planck15_Table4.txt\"\n",
    "kwig, Plin_wig = np.loadtxt(ifile_pklin, dtype='f8', comments='#', unpack=True) \n",
    "splPlin = interpolate.InterpolatedUnivariateSpline(kwig, Plin_wig)"
   ]
  },
  {
   "cell_type": "code",
   "execution_count": 12,
   "id": "c1133e0e-fb15-4658-9114-15a0868940ed",
   "metadata": {
    "execution": {
     "iopub.execute_input": "2023-08-20T22:54:56.590989Z",
     "iopub.status.busy": "2023-08-20T22:54:56.590849Z",
     "iopub.status.idle": "2023-08-20T22:54:56.648265Z",
     "shell.execute_reply": "2023-08-20T22:54:56.647812Z",
     "shell.execute_reply.started": "2023-08-20T22:54:56.590972Z"
    },
    "tags": []
   },
   "outputs": [
    {
     "name": "stdout",
     "output_type": "stream",
     "text": [
      "z, f: 1.1 0.8877579625451413\n",
      "Sigma_z, Sigma_xy: 9.202704940001974 4.8749390136829645\n",
      "z, f: 1.2999999999999998 0.911351999890697\n",
      "Sigma_z, Sigma_xy: 8.585288288440985 4.491735844016144\n",
      "z, f: 1.5 0.9290773608253158\n",
      "Sigma_z, Sigma_xy: 8.024737620832687 4.159883778533106\n",
      "z, f: 1.8 0.948066071462095\n",
      "Sigma_z, Sigma_xy: 7.285655769124769 3.7399428468340488\n",
      "z, f: 2.2 0.9643680826720901\n",
      "Sigma_z, Sigma_xy: 6.465581057573697 3.2914305188560684\n",
      "z, f: 2.7 0.9765415178037479\n",
      "Sigma_z, Sigma_xy: 5.650364476517596 2.8587127695632972\n"
     ]
    }
   ],
   "source": [
    "q_max = 100.0\n",
    "Sigma_sm = 1.e4    # a very large number for pre-recon\n",
    "G_0 = growth_factor(0.0, Omega_m)        # G_0 at z=0, normalization factor\n",
    "Sigma_z_list = []\n",
    "Sigma_xy_list = []\n",
    "for z, f in zip(zmid_sel, f_array):\n",
    "    print(\"z, f:\", z, f)\n",
    "    norm_gf = growth_factor(z, Omega_m)/G_0\n",
    "    const = 1.0/(6.0*np.pi**2.0) * norm_gf**2.0\n",
    "    \n",
    "\n",
    "    Sigma2_sm = Sigma_sm **2.0\n",
    "    Sigma2_dd = const * integrate.quad(Sigma2_dd_integrand, kwig[0], 100.0, args=(splPlin, q_max, Sigma2_sm), epsabs=1.e-4, epsrel=1.e-4)[0]\n",
    "    Sigma_xy = (2.0*Sigma2_dd)**0.5         # There is a factor of 2 due to different expression between Eq. 84 of Blanchard paper and the usual one in the BOSS analysis.\n",
    "    Sigma_z = (1.0+f)*Sigma_xy\n",
    "    print(\"Sigma_z, Sigma_xy:\", Sigma_z, Sigma_xy)\n",
    "    Sigma_z_list.append(Sigma_z)\n",
    "    Sigma_xy_list.append(Sigma_xy)"
   ]
  },
  {
   "cell_type": "code",
   "execution_count": 13,
   "id": "ee01feec-693a-4ebc-a5b6-66f9de05b086",
   "metadata": {
    "execution": {
     "iopub.execute_input": "2023-08-20T22:54:56.649155Z",
     "iopub.status.busy": "2023-08-20T22:54:56.649016Z",
     "iopub.status.idle": "2023-08-20T22:54:56.658550Z",
     "shell.execute_reply": "2023-08-20T22:54:56.658144Z",
     "shell.execute_reply.started": "2023-08-20T22:54:56.649139Z"
    },
    "tags": []
   },
   "outputs": [],
   "source": [
    "output = np.array([zmin_sel, zmax_sel, n_z, bias_array, f_array, np.array(Sigma_z_list), np.array(Sigma_xy_list)]).T\n",
    "header = \"z_low   z_up   n(z) [h/Mpc]^3   bias    growth_rate(f)     Sigma_z     Sigma_xy\"\n",
    "ofile = \"./nz_bias_f_Sigmanl_Wang2022.txt\"\n",
    "np.savetxt(ofile, output, fmt=\"%.7e\", header=header, comments='#')"
   ]
  },
  {
   "cell_type": "code",
   "execution_count": null,
   "id": "efd4a249-d476-4d64-92fa-ccc4bc3233e5",
   "metadata": {},
   "outputs": [],
   "source": []
  }
 ],
 "metadata": {
  "kernelspec": {
   "display_name": "miniworkshop",
   "language": "python",
   "name": "miniworkshop"
  },
  "language_info": {
   "codemirror_mode": {
    "name": "ipython",
    "version": 3
   },
   "file_extension": ".py",
   "mimetype": "text/x-python",
   "name": "python",
   "nbconvert_exporter": "python",
   "pygments_lexer": "ipython3",
   "version": "3.8.3"
  }
 },
 "nbformat": 4,
 "nbformat_minor": 5
}
