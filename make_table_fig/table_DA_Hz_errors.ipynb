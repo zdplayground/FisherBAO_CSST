{
 "cells": [
  {
   "cell_type": "markdown",
   "id": "7c8a44ef-8a17-4987-be49-49461217ef64",
   "metadata": {},
   "source": [
    "## Output the constraints on DA/rd and H(z)rd from spec-z, photo-z, spec-z+cross, spec-z+photo-z+cross in a table. \n",
    "Update the result with Sigma_fog/(1+z). --03-28-2023"
   ]
  },
  {
   "cell_type": "code",
   "execution_count": 1,
   "id": "5ed1ade8-bb64-4761-8aa1-a6da4e525748",
   "metadata": {
    "execution": {
     "iopub.execute_input": "2023-03-28T06:22:41.890283Z",
     "iopub.status.busy": "2023-03-28T06:22:41.890141Z",
     "iopub.status.idle": "2023-03-28T06:22:45.148190Z",
     "shell.execute_reply": "2023-03-28T06:22:45.147681Z",
     "shell.execute_reply.started": "2023-03-28T06:22:41.890262Z"
    },
    "tags": []
   },
   "outputs": [],
   "source": [
    "import os, sys\n",
    "import numpy as np\n",
    "from pathlib import Path\n",
    "sys.path.append(\"/home/zjding/csst_bao/fisher_pkmu/\")\n",
    "from mcmc_funs import growth_factor\n",
    "from astropy.table import Table"
   ]
  },
  {
   "cell_type": "code",
   "execution_count": 2,
   "id": "633d8d14-1a9b-4431-9bf4-e3a35f8b9184",
   "metadata": {
    "execution": {
     "iopub.execute_input": "2023-03-28T06:22:50.944840Z",
     "iopub.status.busy": "2023-03-28T06:22:50.944628Z",
     "iopub.status.idle": "2023-03-28T06:22:50.950725Z",
     "shell.execute_reply": "2023-03-28T06:22:50.950243Z",
     "shell.execute_reply.started": "2023-03-28T06:22:50.944819Z"
    },
    "tags": []
   },
   "outputs": [],
   "source": [
    "speed_c = 299792.458    # speed of light, km/s\n",
    "Omega_m = 0.3075\n",
    "\n",
    "survey_area = 17500.0\n",
    "kmax = 0.3\n",
    "zmin = 0.\n",
    "zmax = 1.6\n",
    "nzbins = 8\n",
    "zbins = np.linspace(zmin, zmax, nzbins+1)\n",
    "\n",
    "const_low = 0.99\n",
    "const_up = 1.01\n",
    "\n",
    "kwidth = 0.005\n",
    "\n",
    "Pspecz_sys = \"1.0\"\n",
    "\n",
    "skyarea_total = 4*np.pi * (180./np.pi)**2.0\n",
    "fsky = survey_area/skyarea_total\n",
    "G_0 = growth_factor(0.0, Omega_m)       # G_0 at z=0, normalization factor \n",
    "\n",
    "# ## estimate the power spectrum damping parameter $\\Sigma_{specz}$, $\\Sigma_{pz}$ from the spec-z and photo-z uncertainty\n",
    "sigma_specz = 0.002\n",
    "sigma_photoz = 0.025     # does not matter here if we only care about the spec-z result\n",
    "Sigma_fog = 7.0          # Finger-of-God damping term\n",
    "\n",
    "tracer_list = ['specz', 'photoz', 'specz_add_cross', 'specz_photoz_add_cross']\n",
    "if Sigma_fog > 0.0:\n",
    "    params_str_list = ['11110101010101', '11101010101010', '11111111111111', '11111111111111']\n",
    "\n",
    "#idir0 = \"/home/zjding/csst_bao/fisher_pkmu/BAO_part/Fisher_sigma_alphas/numerical_method/secondgen/output/\"\n",
    "#alpha_dir0 = f\"{idir0}/sigma_alpha/vary_params_{const_low}_{const_up}/Sigma_fog_{Sigma_fog:.1f}/%s/k_width{kwidth}/Pspecz_sys{Pspecz_sys}/params_bf1.0/\"\n",
    "\n",
    "idir0 = \"/home/zjding/csst_bao/fisher_pkmu/BAO_part/Fisher_sigma_alphas/numerical_method/default/output/\"\n",
    "alpha_dir0 = f\"{idir0}/sigma_alpha/vary_params_{const_low}_{const_up}/Sigma_fog_{Sigma_fog:.1f}/%s/k_width{kwidth}/Pspecz_sys{Pspecz_sys}/params_bf1.0/\"   # for Psys=0\n",
    "recon_dir_list = ['pre_recon', 'post_recon']"
   ]
  },
  {
   "cell_type": "markdown",
   "id": "2a687446-43ce-48af-8f57-e6350f7fb4a1",
   "metadata": {},
   "source": [
    "## collect data"
   ]
  },
  {
   "cell_type": "code",
   "execution_count": 3,
   "id": "511d1215-0d1b-4cbe-ae89-f8e80c95262f",
   "metadata": {
    "execution": {
     "iopub.execute_input": "2023-03-28T06:22:54.476346Z",
     "iopub.status.busy": "2023-03-28T06:22:54.476066Z",
     "iopub.status.idle": "2023-03-28T06:22:54.480495Z",
     "shell.execute_reply": "2023-03-28T06:22:54.480035Z",
     "shell.execute_reply.started": "2023-03-28T06:22:54.476324Z"
    },
    "tags": []
   },
   "outputs": [],
   "source": [
    "def read_data(alpha_dir, params_str, sigma_alperp_list, sigma_alpara_list):\n",
    "    filename = f\"sigma_alpha_{tracer}_tracer_zerror_specz{sigma_specz:.3f}_photoz{sigma_photoz:.3f}_kmax{kmax:.2f}_params{params_str}.npz\"\n",
    "\n",
    "    ifile = Path(alpha_dir, filename)\n",
    "    data = np.load(ifile)\n",
    "    sigma_alphas_mar = data['alphas_mar']\n",
    "\n",
    "    sigma_alperp_list.append(sigma_alphas_mar[:, 2] * 100)  # transfer to per cent\n",
    "    sigma_alpara_list.append(sigma_alphas_mar[:, 3] * 100)\n",
    "    return sigma_alperp_list, sigma_alpara_list"
   ]
  },
  {
   "cell_type": "code",
   "execution_count": 4,
   "id": "0ea69164-6ccb-4e6d-82cb-a95c99285463",
   "metadata": {
    "execution": {
     "iopub.execute_input": "2023-03-28T06:22:57.095633Z",
     "iopub.status.busy": "2023-03-28T06:22:57.095425Z",
     "iopub.status.idle": "2023-03-28T06:22:57.231130Z",
     "shell.execute_reply": "2023-03-28T06:22:57.230641Z",
     "shell.execute_reply.started": "2023-03-28T06:22:57.095612Z"
    },
    "tags": []
   },
   "outputs": [],
   "source": [
    "sigma_alperp_list = []\n",
    "sigma_alpara_list = []\n",
    "\n",
    "for tracer, params_str in zip(tracer_list, params_str_list):\n",
    "    if tracer == 'photoz':\n",
    "        recon_dir = recon_dir_list[0]\n",
    "        ##alpha_dir = alpha_dir0.format(idir0, const_low, const_up, zmin, zmax, nzbins, Sigma_fog, recon_dir, kwidth, Pspecz_sys)\n",
    "        alpha_dir = alpha_dir0%(recon_dir)\n",
    "        sigma_alperp_list, sigma_alpara_list = read_data(alpha_dir, params_str, sigma_alperp_list, sigma_alpara_list)\n",
    "    else:\n",
    "        for recon_dir in recon_dir_list:\n",
    "            alpha_dir = alpha_dir0%(recon_dir)\n",
    "            sigma_alperp_list, sigma_alpara_list = read_data(alpha_dir, params_str, sigma_alperp_list, sigma_alpara_list)\n",
    "        \n",
    "sigma_alperp_array = np.array(sigma_alperp_list).T    # transpose it to make the row as the redshift index\n",
    "sigma_alpara_array = np.array(sigma_alpara_list).T"
   ]
  },
  {
   "cell_type": "code",
   "execution_count": 5,
   "id": "a8876b0b-fcd8-4921-b53d-7196f3381578",
   "metadata": {
    "execution": {
     "iopub.execute_input": "2023-03-28T06:22:57.710723Z",
     "iopub.status.busy": "2023-03-28T06:22:57.710525Z",
     "iopub.status.idle": "2023-03-28T06:22:57.713812Z",
     "shell.execute_reply": "2023-03-28T06:22:57.713355Z",
     "shell.execute_reply.started": "2023-03-28T06:22:57.710703Z"
    },
    "tags": []
   },
   "outputs": [
    {
     "name": "stdout",
     "output_type": "stream",
     "text": [
      "(8, 14)\n"
     ]
    }
   ],
   "source": [
    "sigma_alphas_array = np.hstack((sigma_alperp_array, sigma_alpara_array))\n",
    "print(sigma_alphas_array.shape)"
   ]
  },
  {
   "cell_type": "code",
   "execution_count": 6,
   "id": "96bd44d3-0c1e-4719-8896-16ca91ddd2bc",
   "metadata": {
    "execution": {
     "iopub.execute_input": "2023-03-28T06:23:00.461897Z",
     "iopub.status.busy": "2023-03-28T06:23:00.461688Z",
     "iopub.status.idle": "2023-03-28T06:23:00.468075Z",
     "shell.execute_reply": "2023-03-28T06:23:00.467650Z",
     "shell.execute_reply.started": "2023-03-28T06:23:00.461877Z"
    },
    "tags": []
   },
   "outputs": [
    {
     "data": {
      "text/plain": [
       "[array([0. , 0.2, 0.4, 0.6, 0.8, 1. , 1.2, 1.4]),\n",
       " array([0.2, 0.4, 0.6, 0.8, 1. , 1.2, 1.4, 1.6]),\n",
       " array([ 4.74066766,  1.74130739,  1.12031334,  0.84110686,  0.77040378,\n",
       "         1.4121305 ,  5.04690568, 24.51901026]),\n",
       " array([ 2.25977766,  0.90957142,  0.6539332 ,  0.53060696,  0.53094793,\n",
       "         1.12112372,  4.58883556, 24.51901026]),\n",
       " array([6.57809909, 2.5466111 , 1.6355923 , 1.2178468 , 1.00168856,\n",
       "        0.89837463, 0.86578434, 0.82619238]),\n",
       " array([4.7147418 , 1.72429954, 1.08433883, 0.80396137, 0.70100081,\n",
       "        0.93140478, 1.78146575, 3.92486628]),\n",
       " array([1.32293079, 0.72178706, 0.6381136 , 0.52923005, 0.52093464,\n",
       "        0.80933632, 1.69251593, 3.92486628]),\n",
       " array([4.71454716, 1.72405683, 1.08264196, 0.80150294, 0.69207226,\n",
       "        0.76766783, 0.81008408, 0.80865188]),\n",
       " array([0.91530916, 0.65649117, 0.63724327, 0.52920851, 0.52066841,\n",
       "        0.7147838 , 0.80583728, 0.80865188]),\n",
       " array([12.20566884,  4.64538284,  3.00514817,  2.23828116,  1.98527603,\n",
       "         3.14018953,  9.44964908, 42.68977253]),\n",
       " array([ 4.83872167,  1.99756   ,  1.484911  ,  1.19979602,  1.19126242,\n",
       "         2.29603164,  8.33419953, 42.68977253]),\n",
       " array([90.48368473, 46.03623897, 37.35176649, 30.84199064, 27.54794006,\n",
       "        27.38273845, 29.3109484 , 28.86845867]),\n",
       " array([12.1955693 ,  4.63849437,  2.99077114,  2.22363304,  1.95968375,\n",
       "         3.00743306,  8.64896389, 33.60929199]),\n",
       " array([ 4.57385773,  1.93652806,  1.47918474,  1.19925769,  1.18783669,\n",
       "         2.21351496,  7.66730448, 33.60929199]),\n",
       " array([12.19516846,  4.63828667,  2.99000946,  2.22260412,  1.9563905 ,\n",
       "         2.96933916,  8.37202959, 22.87551191]),\n",
       " array([ 4.49275668,  1.91747893,  1.4788072 ,  1.199202  ,  1.18771936,\n",
       "         2.19165381,  7.45469586, 22.87551191])]"
      ]
     },
     "execution_count": 6,
     "metadata": {},
     "output_type": "execute_result"
    }
   ],
   "source": [
    "data = [zbins[0:-1], zbins[1:]] + sigma_alperp_list + sigma_alpara_list\n",
    "data"
   ]
  },
  {
   "cell_type": "code",
   "execution_count": 7,
   "id": "a769b59a-ca36-4395-a28d-f382355cab54",
   "metadata": {
    "execution": {
     "iopub.execute_input": "2023-03-28T06:23:02.940410Z",
     "iopub.status.busy": "2023-03-28T06:23:02.940197Z",
     "iopub.status.idle": "2023-03-28T06:23:02.943560Z",
     "shell.execute_reply": "2023-03-28T06:23:02.943143Z",
     "shell.execute_reply.started": "2023-03-28T06:23:02.940389Z"
    },
    "tags": []
   },
   "outputs": [
    {
     "data": {
      "text/plain": [
       "16"
      ]
     },
     "execution_count": 7,
     "metadata": {},
     "output_type": "execute_result"
    }
   ],
   "source": [
    "len(data)"
   ]
  },
  {
   "cell_type": "code",
   "execution_count": 8,
   "id": "f3e07cb1-a694-4981-8d61-f9ab9cf7f607",
   "metadata": {
    "execution": {
     "iopub.execute_input": "2023-03-28T06:23:07.465621Z",
     "iopub.status.busy": "2023-03-28T06:23:07.465412Z",
     "iopub.status.idle": "2023-03-28T06:23:07.473970Z",
     "shell.execute_reply": "2023-03-28T06:23:07.473549Z",
     "shell.execute_reply.started": "2023-03-28T06:23:07.465599Z"
    },
    "tags": []
   },
   "outputs": [
    {
     "name": "stdout",
     "output_type": "stream",
     "text": [
      "16\n"
     ]
    },
    {
     "data": {
      "text/html": [
       "<div><i>Table length=8</i>\n",
       "<table id=\"table140488605756288\" class=\"table-striped table-bordered table-condensed\">\n",
       "<thead><tr><th>zmin</th><th>zmax</th><th>alperp_specz_pre</th><th>alperp_specz_post</th><th>alperp_photoz</th><th>alperp_specz_pre+cross</th><th>alperp_specz_post+cross</th><th>alperp_joint_pre</th><th>alperp_join_post</th><th>alpara_specz_pre</th><th>alpara_specz_post</th><th>alpara_photoz</th><th>alpara_specz_pre+cross</th><th>alpara_specz_post+cross</th><th>alpara_joint_pre</th><th>alpara_join_post</th></tr></thead>\n",
       "<thead><tr><th>float64</th><th>float64</th><th>float64</th><th>float64</th><th>float64</th><th>float64</th><th>float64</th><th>float64</th><th>float64</th><th>float64</th><th>float64</th><th>float64</th><th>float64</th><th>float64</th><th>float64</th><th>float64</th></tr></thead>\n",
       "<tr><td>0.0</td><td>0.2</td><td>4.740667660922299</td><td>2.25977766315452</td><td>6.578099085936952</td><td>4.714741801406799</td><td>1.3229307865048423</td><td>4.714547156892048</td><td>0.9153091648364117</td><td>12.205668842398593</td><td>4.838721665585517</td><td>90.48368473279635</td><td>12.195569302527671</td><td>4.573857733366469</td><td>12.19516846470568</td><td>4.492756677940939</td></tr>\n",
       "<tr><td>0.2</td><td>0.4</td><td>1.7413073871497666</td><td>0.9095714207982849</td><td>2.5466110956706616</td><td>1.7242995354530575</td><td>0.7217870588632186</td><td>1.7240568303712636</td><td>0.6564911736098057</td><td>4.64538284222831</td><td>1.9975600049637716</td><td>46.03623896859525</td><td>4.638494371489535</td><td>1.9365280639563613</td><td>4.638286669434908</td><td>1.9174789298372887</td></tr>\n",
       "<tr><td>0.4</td><td>0.6000000000000001</td><td>1.1203133397628309</td><td>0.6539332041528182</td><td>1.635592302816428</td><td>1.0843388317873983</td><td>0.6381136038893218</td><td>1.0826419605246507</td><td>0.6372432672897984</td><td>3.0051481713124226</td><td>1.4849109974993966</td><td>37.35176648560501</td><td>2.9907711423149723</td><td>1.4791847431790037</td><td>2.9900094573096263</td><td>1.4788072003162482</td></tr>\n",
       "<tr><td>0.6000000000000001</td><td>0.8</td><td>0.8411068599073335</td><td>0.530606958132633</td><td>1.2178468044406934</td><td>0.8039613672641549</td><td>0.5292300467460263</td><td>0.8015029415031504</td><td>0.5292085141337184</td><td>2.2382811584752096</td><td>1.199796020353226</td><td>30.841990643454366</td><td>2.2236330354784735</td><td>1.1992576863428523</td><td>2.2226041199488864</td><td>1.1992020020066476</td></tr>\n",
       "<tr><td>0.8</td><td>1.0</td><td>0.7704037796699718</td><td>0.5309479334471272</td><td>1.001688556029953</td><td>0.7010008062637106</td><td>0.5209346394356651</td><td>0.6920722604394469</td><td>0.5206684110974122</td><td>1.9852760292443452</td><td>1.191262420193396</td><td>27.547940056715152</td><td>1.9596837476062228</td><td>1.187836690999558</td><td>1.9563905007816356</td><td>1.1877193599430318</td></tr>\n",
       "<tr><td>1.0</td><td>1.2000000000000002</td><td>1.412130503268734</td><td>1.1211237157997802</td><td>0.8983746253248468</td><td>0.931404783599669</td><td>0.809336320982282</td><td>0.7676678324742443</td><td>0.7147838025234406</td><td>3.140189530900159</td><td>2.296031639775564</td><td>27.382738452116378</td><td>3.007433064152695</td><td>2.2135149629880853</td><td>2.969339161075215</td><td>2.1916538112075115</td></tr>\n",
       "<tr><td>1.2000000000000002</td><td>1.4000000000000001</td><td>5.046905679424804</td><td>4.588835558155407</td><td>0.8657843379162187</td><td>1.781465749785693</td><td>1.6925159268037293</td><td>0.8100840821686619</td><td>0.8058372798386834</td><td>9.449649078676712</td><td>8.334199525029453</td><td>29.31094840271974</td><td>8.648963886780964</td><td>7.667304480170399</td><td>8.372029587045004</td><td>7.454695860297539</td></tr>\n",
       "<tr><td>1.4000000000000001</td><td>1.6</td><td>24.51901025965155</td><td>24.51901025965155</td><td>0.8261923753444119</td><td>3.9248662798101233</td><td>3.9248662798101233</td><td>0.8086518752548266</td><td>0.8086518752548266</td><td>42.68977253080505</td><td>42.68977253080505</td><td>28.868458668757533</td><td>33.60929198877235</td><td>33.60929198877235</td><td>22.875511910817796</td><td>22.875511910817796</td></tr>\n",
       "</table></div>"
      ],
      "text/plain": [
       "<Table length=8>\n",
       "       zmin               zmax        ...  alpara_joint_pre   alpara_join_post \n",
       "     float64            float64       ...      float64            float64      \n",
       "------------------ ------------------ ... ------------------ ------------------\n",
       "               0.0                0.2 ...  12.19516846470568  4.492756677940939\n",
       "               0.2                0.4 ...  4.638286669434908 1.9174789298372887\n",
       "               0.4 0.6000000000000001 ... 2.9900094573096263 1.4788072003162482\n",
       "0.6000000000000001                0.8 ... 2.2226041199488864 1.1992020020066476\n",
       "               0.8                1.0 ... 1.9563905007816356 1.1877193599430318\n",
       "               1.0 1.2000000000000002 ...  2.969339161075215 2.1916538112075115\n",
       "1.2000000000000002 1.4000000000000001 ...  8.372029587045004  7.454695860297539\n",
       "1.4000000000000001                1.6 ... 22.875511910817796 22.875511910817796"
      ]
     },
     "execution_count": 8,
     "metadata": {},
     "output_type": "execute_result"
    }
   ],
   "source": [
    "name_list = ['zmin', 'zmax', 'alperp_specz_pre', 'alperp_specz_post', 'alperp_photoz', 'alperp_specz_pre+cross', 'alperp_specz_post+cross', 'alperp_joint_pre', 'alperp_join_post', \\\n",
    "                             'alpara_specz_pre', 'alpara_specz_post', 'alpara_photoz', 'alpara_specz_pre+cross', 'alpara_specz_post+cross', 'alpara_joint_pre', 'alpara_join_post']\n",
    "print(len(name_list))\n",
    "res = Table(data, names=name_list)\n",
    "res"
   ]
  },
  {
   "cell_type": "code",
   "execution_count": 9,
   "id": "033132ed-09e3-4f9f-bae8-8a5f0a525a3a",
   "metadata": {
    "execution": {
     "iopub.execute_input": "2023-03-28T06:23:21.901718Z",
     "iopub.status.busy": "2023-03-28T06:23:21.901502Z",
     "iopub.status.idle": "2023-03-28T06:23:21.904209Z",
     "shell.execute_reply": "2023-03-28T06:23:21.903765Z",
     "shell.execute_reply.started": "2023-03-28T06:23:21.901696Z"
    },
    "tags": []
   },
   "outputs": [],
   "source": [
    "ncol_alphas = sigma_alphas_array.shape[1]//2"
   ]
  },
  {
   "cell_type": "code",
   "execution_count": 10,
   "id": "6f1827e0-c710-4626-b504-41f2820f2f58",
   "metadata": {
    "execution": {
     "iopub.execute_input": "2023-03-28T06:23:22.949557Z",
     "iopub.status.busy": "2023-03-28T06:23:22.949348Z",
     "iopub.status.idle": "2023-03-28T06:23:22.952296Z",
     "shell.execute_reply": "2023-03-28T06:23:22.951837Z",
     "shell.execute_reply.started": "2023-03-28T06:23:22.949536Z"
    },
    "tags": []
   },
   "outputs": [],
   "source": [
    "odir = \"./Table/\"\n",
    "if not os.path.exists(odir):\n",
    "    os.makedirs(odir)"
   ]
  },
  {
   "cell_type": "code",
   "execution_count": 11,
   "id": "2c7d73bf-c296-4d6c-a50e-e380ce7be944",
   "metadata": {
    "execution": {
     "iopub.execute_input": "2023-03-28T06:23:36.462203Z",
     "iopub.status.busy": "2023-03-28T06:23:36.461978Z",
     "iopub.status.idle": "2023-03-28T06:23:36.477465Z",
     "shell.execute_reply": "2023-03-28T06:23:36.476912Z",
     "shell.execute_reply.started": "2023-03-28T06:23:36.462181Z"
    },
    "tags": []
   },
   "outputs": [],
   "source": [
    "header=\" \"\n",
    "for i in name_list:\n",
    "    header += i + \", \"\n",
    "\n",
    "ofile = odir + \"sigma_DA_Hz_Sigmafog_{0:.1f}_Pspeczsys{1}_pre_postrecon.csv\".format(Sigma_fog, Pspecz_sys)\n",
    "\n",
    "with open(ofile, 'w') as fwriter:\n",
    "    for i in range(nzbins):\n",
    "        zmin, zmax = zbins[i], zbins[i+1]\n",
    "        text = f\"{zmin:.1f} < z < {zmax:.1f}\"\n",
    "        for j in range(2):\n",
    "            text += f\"& {sigma_alphas_array[i, 0+j*ncol_alphas]:.2f} ({sigma_alphas_array[i, 1+j*ncol_alphas]:.2f}) \"\n",
    "            text += f\"& {sigma_alphas_array[i, 2+j*ncol_alphas]:.2f} \" \n",
    "            text += f\"& {sigma_alphas_array[i, 3+j*ncol_alphas]:.2f} ({sigma_alphas_array[i, 4+j*ncol_alphas]:.2f}) \"\n",
    "            text += f\"& {sigma_alphas_array[i, 5+j*ncol_alphas]:.2f} ({sigma_alphas_array[i, 6+j*ncol_alphas]:.2f}) \"\n",
    "            if j == 0:\n",
    "                text += \"& \"\n",
    "        \n",
    "        text += \" \\\\\\\\\\n\"\n",
    "        fwriter.write(text)"
   ]
  },
  {
   "cell_type": "markdown",
   "id": "8affeb60-1886-445f-959d-514b483e676e",
   "metadata": {},
   "source": [
    "## only for pre-recon results"
   ]
  },
  {
   "cell_type": "code",
   "execution_count": 12,
   "id": "eb2e061d-d169-4acf-bfe7-3f852528a0e7",
   "metadata": {
    "execution": {
     "iopub.execute_input": "2023-03-28T06:23:38.874063Z",
     "iopub.status.busy": "2023-03-28T06:23:38.873852Z",
     "iopub.status.idle": "2023-03-28T06:23:38.886685Z",
     "shell.execute_reply": "2023-03-28T06:23:38.886228Z",
     "shell.execute_reply.started": "2023-03-28T06:23:38.874044Z"
    },
    "tags": []
   },
   "outputs": [],
   "source": [
    "name_list_pre = ['zmin', 'zmax', 'alperp_specz_pre', 'alperp_photoz', 'alperp_specz_pre+cross', 'alperp_joint_pre', \\\n",
    "                             'alpara_specz_pre', 'alpara_photoz', 'alpara_specz_pre+cross', 'alpara_joint_pre']\n",
    "\n",
    "ofile = odir + \"sigma_DA_Hz_Sigmafog_{0:.1f}_Pspeczsys{1}_pre_recon.csv\".format(Sigma_fog, Pspecz_sys)\n",
    "\n",
    "header=\" \"\n",
    "for i in name_list_pre:\n",
    "    header += i + \", \"\n",
    "\n",
    "with open(ofile, 'w') as fwriter:\n",
    "    for i in range(nzbins):\n",
    "        zmin, zmax = zbins[i], zbins[i+1]\n",
    "        text = f\"{zmin:.1f} < z < {zmax:.1f}\"\n",
    "        for j in range(2):\n",
    "            text += f\"& {sigma_alphas_array[i, 0+j*ncol_alphas]:.2f} \"\n",
    "            text += f\"& {sigma_alphas_array[i, 2+j*ncol_alphas]:.2f} \" \n",
    "            text += f\"& {sigma_alphas_array[i, 3+j*ncol_alphas]:.2f} \"\n",
    "            text += f\"& {sigma_alphas_array[i, 5+j*ncol_alphas]:.2f} \"\n",
    "            if j == 0:\n",
    "                text += \"& \"\n",
    "        \n",
    "        text += \" \\\\\\\\\\n\"\n",
    "        fwriter.write(text)"
   ]
  },
  {
   "cell_type": "code",
   "execution_count": null,
   "id": "fb56fa8e-ea90-46ee-98a6-202978be17d8",
   "metadata": {},
   "outputs": [],
   "source": []
  }
 ],
 "metadata": {
  "kernelspec": {
   "display_name": "miniworkshop",
   "language": "python",
   "name": "miniworkshop"
  },
  "language_info": {
   "codemirror_mode": {
    "name": "ipython",
    "version": 3
   },
   "file_extension": ".py",
   "mimetype": "text/x-python",
   "name": "python",
   "nbconvert_exporter": "python",
   "pygments_lexer": "ipython3",
   "version": "3.8.3"
  }
 },
 "nbformat": 4,
 "nbformat_minor": 5
}
