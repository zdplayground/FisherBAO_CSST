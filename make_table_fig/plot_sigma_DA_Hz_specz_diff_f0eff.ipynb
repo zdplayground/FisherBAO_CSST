{
 "cells": [
  {
   "cell_type": "markdown",
   "id": "d9c4b09e-fbe5-453f-83d4-31c9fcc5f0c6",
   "metadata": {},
   "source": [
    "## Plot sigma_DA and sigma_Hz from cases with different spec-z galaxy number density. --04-02-2023"
   ]
  },
  {
   "cell_type": "code",
   "execution_count": 1,
   "id": "8d2f6224-0316-4385-b477-d95453d9806b",
   "metadata": {
    "execution": {
     "iopub.execute_input": "2023-04-02T03:21:20.856966Z",
     "iopub.status.busy": "2023-04-02T03:21:20.856761Z",
     "iopub.status.idle": "2023-04-02T03:21:21.865143Z",
     "shell.execute_reply": "2023-04-02T03:21:21.864601Z",
     "shell.execute_reply.started": "2023-04-02T03:21:20.856947Z"
    },
    "tags": []
   },
   "outputs": [
    {
     "name": "stdout",
     "output_type": "stream",
     "text": [
      "Populating the interactive namespace from numpy and matplotlib\n"
     ]
    }
   ],
   "source": [
    "%pylab inline"
   ]
  },
  {
   "cell_type": "code",
   "execution_count": 2,
   "id": "10f0b0c5-5d98-4319-88af-d864ac04e669",
   "metadata": {
    "execution": {
     "iopub.execute_input": "2023-04-02T03:21:21.866082Z",
     "iopub.status.busy": "2023-04-02T03:21:21.865930Z",
     "iopub.status.idle": "2023-04-02T03:21:22.715015Z",
     "shell.execute_reply": "2023-04-02T03:21:22.714482Z",
     "shell.execute_reply.started": "2023-04-02T03:21:21.866064Z"
    },
    "tags": []
   },
   "outputs": [],
   "source": [
    "import os, sys\n",
    "from pathlib import Path\n",
    "sys.path.append(\"/home/zjding/csst_bao/fisher_pkmu/\")\n",
    "from mcmc_funs import growth_factor\n",
    "from astropy.table import Table"
   ]
  },
  {
   "cell_type": "code",
   "execution_count": 3,
   "id": "633d8d14-1a9b-4431-9bf4-e3a35f8b9184",
   "metadata": {
    "execution": {
     "iopub.execute_input": "2023-04-02T03:21:22.716465Z",
     "iopub.status.busy": "2023-04-02T03:21:22.716305Z",
     "iopub.status.idle": "2023-04-02T03:21:22.721340Z",
     "shell.execute_reply": "2023-04-02T03:21:22.720858Z",
     "shell.execute_reply.started": "2023-04-02T03:21:22.716446Z"
    },
    "tags": []
   },
   "outputs": [],
   "source": [
    "speed_c = 299792.458    # speed of light, km/s\n",
    "Omega_m = 0.3075\n",
    "\n",
    "survey_area = 17500.0\n",
    "kmax = 0.3\n",
    "kwidth = 0.005\n",
    "zmin = 0.\n",
    "zmax = 1.6\n",
    "nzbins = 8\n",
    "zbins = np.linspace(zmin, zmax, nzbins+1)\n",
    "\n",
    "const_low = 0.99\n",
    "const_up = 1.01\n",
    "\n",
    "skyarea_total = 4*np.pi * (180./np.pi)**2.0\n",
    "fsky = survey_area/skyarea_total\n",
    "G_0 = growth_factor(0.0, Omega_m)       # G_0 at z=0, normalization factor \n",
    "\n",
    "# ## estimate the power spectrum damping parameter $\\Sigma_{specz}$, $\\Sigma_{pz}$ from the spec-z and photo-z uncertainty\n",
    "sigma_specz = 0.002\n",
    "#sigma_photoz = 0.05\n",
    "sigma_photoz = 0.025\n",
    "# Finger-of-God damping term\n",
    "Sigma_fog = 7.0\n",
    "\n",
    "fsky_cosmos = 2.0/skyarea_total\n",
    "fsky_zcosmos = 1.7/skyarea_total\n",
    "\n",
    "Pspecz_sys = \"1.0\""
   ]
  },
  {
   "cell_type": "code",
   "execution_count": 4,
   "id": "6a47f502-3fc3-4001-9c3d-99723cdcdc37",
   "metadata": {
    "execution": {
     "iopub.execute_input": "2023-04-02T03:21:22.722426Z",
     "iopub.status.busy": "2023-04-02T03:21:22.722289Z",
     "iopub.status.idle": "2023-04-02T03:21:22.736421Z",
     "shell.execute_reply": "2023-04-02T03:21:22.735976Z",
     "shell.execute_reply.started": "2023-04-02T03:21:22.722409Z"
    },
    "tags": []
   },
   "outputs": [],
   "source": [
    "idir0 = \"/home/zjding/csst_bao/fisher_pkmu/BAO_part/Fisher_sigma_alphas/numerical_method/default/output/\""
   ]
  },
  {
   "cell_type": "code",
   "execution_count": 5,
   "id": "e15a054d-94f8-413e-ab0c-2464f964cbd9",
   "metadata": {
    "execution": {
     "iopub.execute_input": "2023-04-02T03:21:22.737222Z",
     "iopub.status.busy": "2023-04-02T03:21:22.737081Z",
     "iopub.status.idle": "2023-04-02T03:21:22.747140Z",
     "shell.execute_reply": "2023-04-02T03:21:22.746707Z",
     "shell.execute_reply.started": "2023-04-02T03:21:22.737206Z"
    },
    "tags": []
   },
   "outputs": [],
   "source": [
    "recon_dir_list = [\"pre_recon\", \"post_recon\"]\n",
    "text_list = [\"Pre-recon\", \"Post-recon\"]\n",
    "tracer_list = ['photoz', 'specz', 'specz_add_cross', 'specz_photoz_add_cross']\n",
    "label_list = ['photo-z', 'spec-z', 'spec-z+cross', 'spec-z+cross+photo-z']\n",
    "line_list = ['--', ':', '-.', '-']\n",
    "marker_list = ['x', 's', '>', 'o']\n",
    "\n",
    "f0eff_list = [0.3, 0.5, 0.7]\n",
    "f0eff_dir_list = ['f0eff0.3/', '', 'f0eff0.7/']\n",
    "\n",
    "if Sigma_fog > 0.0:\n",
    "    params_str_list = ['11101010101010', '11110101010101', '11111111111111', '11111111111111']"
   ]
  },
  {
   "cell_type": "code",
   "execution_count": 6,
   "id": "070291aa-c8f4-41c5-a48c-1d9353ca50d8",
   "metadata": {
    "execution": {
     "iopub.execute_input": "2023-04-02T03:21:22.747889Z",
     "iopub.status.busy": "2023-04-02T03:21:22.747756Z",
     "iopub.status.idle": "2023-04-02T03:21:22.775938Z",
     "shell.execute_reply": "2023-04-02T03:21:22.775382Z",
     "shell.execute_reply.started": "2023-04-02T03:21:22.747872Z"
    },
    "tags": []
   },
   "outputs": [],
   "source": [
    "recon_dir = \"pre_recon\"\n",
    "\n",
    "alpha_perp_all = []\n",
    "alpha_para_all = []\n",
    "\n",
    "for f0eff, f0eff_dir in zip(f0eff_list, f0eff_dir_list):\n",
    "    alpha_perp_list = []\n",
    "    alpha_para_list = []\n",
    "    for i, tracer in enumerate(tracer_list):\n",
    "        tracer, params_str = tracer_list[i], params_str_list[i]\n",
    "        alpha_dir = idir0 + f\"sigma_alpha/vary_params_{const_low}_{const_up}/Sigma_fog_{Sigma_fog}/{recon_dir}/k_width{kwidth}/Pspecz_sys{Pspecz_sys}/params_bf1.0/{f0eff_dir}\"\n",
    "        \n",
    "        filename = \"sigma_alpha_{0}_tracer_zerror_specz{1:.3f}_photoz{2:.3f}_kmax{3:.2f}_params{4}.npz\".format(tracer, sigma_specz, sigma_photoz, kmax, params_str)\n",
    "\n",
    "        alpha_dir_temp = alpha_dir\n",
    "        ifile = Path(alpha_dir, filename)\n",
    "        data = np.load(ifile)\n",
    "        alphas_mar = data['alphas_mar']\n",
    "\n",
    "        alpha_perp_list.append(alphas_mar[:, 2])\n",
    "        alpha_para_list.append(alphas_mar[:, 3])\n",
    "\n",
    "    alpha_perp_all.append(alpha_perp_list)\n",
    "    alpha_para_all.append(alpha_para_list)"
   ]
  },
  {
   "cell_type": "code",
   "execution_count": 7,
   "id": "00986be9-cbeb-44e6-b55c-67f8e54e3aa9",
   "metadata": {
    "execution": {
     "iopub.execute_input": "2023-04-02T03:21:22.776792Z",
     "iopub.status.busy": "2023-04-02T03:21:22.776647Z",
     "iopub.status.idle": "2023-04-02T03:21:22.781658Z",
     "shell.execute_reply": "2023-04-02T03:21:22.781195Z",
     "shell.execute_reply.started": "2023-04-02T03:21:22.776775Z"
    },
    "tags": []
   },
   "outputs": [
    {
     "data": {
      "text/plain": [
       "array([[ 0.        ,  0.2       ,  0.04700497,  0.12138634, -0.40424395],\n",
       "       [ 0.2       ,  0.4       ,  0.01713394,  0.04597904, -0.40260509],\n",
       "       [ 0.4       ,  0.6       ,  0.01063265,  0.02917675, -0.39621362],\n",
       "       [ 0.6       ,  0.8       ,  0.00782262,  0.02150213, -0.39285884],\n",
       "       [ 0.8       ,  1.        ,  0.006664  ,  0.01849599, -0.37906327],\n",
       "       [ 1.        ,  1.2       ,  0.00740033,  0.02568424, -0.28084639],\n",
       "       [ 1.2       ,  1.4       ,  0.00803017,  0.06582852, -0.16975011],\n",
       "       [ 1.4       ,  1.6       ,  0.0080125 ,  0.19997753, -0.2639428 ]])"
      ]
     },
     "execution_count": 7,
     "metadata": {},
     "output_type": "execute_result"
    }
   ],
   "source": [
    "alphas_mar"
   ]
  },
  {
   "cell_type": "code",
   "execution_count": 8,
   "id": "aaab8bf3-8fed-4520-bf7a-c7b8538a99e4",
   "metadata": {
    "execution": {
     "iopub.execute_input": "2023-04-02T03:21:22.782491Z",
     "iopub.status.busy": "2023-04-02T03:21:22.782341Z",
     "iopub.status.idle": "2023-04-02T03:21:22.792769Z",
     "shell.execute_reply": "2023-04-02T03:21:22.792299Z",
     "shell.execute_reply.started": "2023-04-02T03:21:22.782473Z"
    },
    "tags": []
   },
   "outputs": [
    {
     "data": {
      "text/plain": [
       "array([0.1, 0.3, 0.5, 0.7, 0.9, 1.1, 1.3, 1.5])"
      ]
     },
     "execution_count": 8,
     "metadata": {},
     "output_type": "execute_result"
    }
   ],
   "source": [
    "z_mid = (alphas_mar[:, 0] + alphas_mar[:, 1])/2.0\n",
    "z_mid"
   ]
  },
  {
   "cell_type": "code",
   "execution_count": 9,
   "id": "2b8da2d6-2f0c-466e-a2f6-746e923bfaca",
   "metadata": {
    "execution": {
     "iopub.execute_input": "2023-04-02T03:21:22.793739Z",
     "iopub.status.busy": "2023-04-02T03:21:22.793590Z",
     "iopub.status.idle": "2023-04-02T03:21:22.802510Z",
     "shell.execute_reply": "2023-04-02T03:21:22.802016Z",
     "shell.execute_reply.started": "2023-04-02T03:21:22.793721Z"
    },
    "tags": []
   },
   "outputs": [],
   "source": [
    "odir = \"./figs/z{0:.1f}_{1:.1f}_{2}zbins/\".format(zmin, zmax, nzbins)\n",
    "if not os.path.exists(odir):\n",
    "    os.makedirs(odir)"
   ]
  },
  {
   "cell_type": "markdown",
   "id": "d7ad261c-1ba1-4d29-9c7b-502b188a60fd",
   "metadata": {},
   "source": [
    "## plot the relative difference of the constraints on D_A/r_d"
   ]
  },
  {
   "cell_type": "code",
   "execution_count": 10,
   "id": "d97c4302-ebba-4790-ab0a-c7dfcdf7892e",
   "metadata": {
    "execution": {
     "iopub.execute_input": "2023-04-02T03:21:22.803454Z",
     "iopub.status.busy": "2023-04-02T03:21:22.803307Z",
     "iopub.status.idle": "2023-04-02T03:21:22.811903Z",
     "shell.execute_reply": "2023-04-02T03:21:22.811488Z",
     "shell.execute_reply.started": "2023-04-02T03:21:22.803437Z"
    },
    "tags": []
   },
   "outputs": [
    {
     "data": {
      "text/plain": [
       "array([0.04740668, 0.01741307, 0.01120313, 0.00841107, 0.00770404,\n",
       "       0.01412131, 0.05046906, 0.2451901 ])"
      ]
     },
     "execution_count": 10,
     "metadata": {},
     "output_type": "execute_result"
    }
   ],
   "source": [
    "alpha_perp_all[1][1]"
   ]
  },
  {
   "cell_type": "code",
   "execution_count": 11,
   "id": "ec1b3be2-7459-4364-b0d3-623ca0057ea6",
   "metadata": {
    "execution": {
     "iopub.execute_input": "2023-04-02T03:21:22.812721Z",
     "iopub.status.busy": "2023-04-02T03:21:22.812582Z",
     "iopub.status.idle": "2023-04-02T03:21:23.330649Z",
     "shell.execute_reply": "2023-04-02T03:21:23.330163Z",
     "shell.execute_reply.started": "2023-04-02T03:21:22.812705Z"
    },
    "tags": []
   },
   "outputs": [
    {
     "data": {
      "image/png": "[encoded data removed]",
      "text/plain": [
       "<Figure size 720x480 with 1 Axes>"
      ]
     },
     "metadata": {
      "needs_background": "light"
     },
     "output_type": "display_data"
    }
   ],
   "source": [
    "fig, ax = plt.subplots(dpi=120)\n",
    "for i, f0eff in enumerate(f0eff_list):\n",
    "    ax.plot(z_mid, alpha_perp_all[i][1]/alpha_perp_all[1][1], color=f'C{i}', label=r\"$f_{\\mathrm{eff}}^{\\,0}=%.1f$\"%f0eff_list[i])\n",
    "    ax.plot(z_mid, alpha_para_all[i][1]/alpha_para_all[1][1], color=f'C{i}', ls='--')\n",
    "\n",
    "ax.legend(fontsize=16)\n",
    "ax.grid()\n",
    "ax.set_xlabel(r\"$z_s$\", fontsize=16)\n",
    "ax.set_ylabel(r\"$\\sigma$ ratio\", fontsize=16)\n",
    "plt.tight_layout()\n",
    "ofile = odir + \"sigma_DA_Hz_ratio_diff_f0eff.png\"\n",
    "plt.savefig(ofile)"
   ]
  }
 ],
 "metadata": {
  "kernelspec": {
   "display_name": "miniworkshop",
   "language": "python",
   "name": "miniworkshop"
  },
  "language_info": {
   "codemirror_mode": {
    "name": "ipython",
    "version": 3
   },
   "file_extension": ".py",
   "mimetype": "text/x-python",
   "name": "python",
   "nbconvert_exporter": "python",
   "pygments_lexer": "ipython3",
   "version": "3.8.3"
  }
 },
 "nbformat": 4,
 "nbformat_minor": 5
}
