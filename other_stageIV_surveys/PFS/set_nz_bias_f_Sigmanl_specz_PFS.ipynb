{
 "cells": [
  {
   "cell_type": "markdown",
   "id": "da289849-7465-457f-a729-229e191ebafe",
   "metadata": {},
   "source": [
    "## From Takada et al. 2014 (Extragalactic science, cosmology, and Galactic archaeology with the Subaru Prime Focus Spectrograph) --08-20-2023\n",
    "Take reference from /home/zjding/csst_bao/fisher_pkmu/parameter_preparation/Sigma_nl_linear_order.ipynb"
   ]
  },
  {
   "cell_type": "markdown",
   "id": "0ad83bfe-a2e8-461e-93f7-a25b7565fb57",
   "metadata": {},
   "source": [
    "Derive the relation between the angular number density $\\frac{dN}{dzd\\Omega}$ and volume number density $dN/dV$:\n",
    "\\begin{align}\n",
    "f_1 = \\frac{dN}{dzd\\Omega}\\\\\n",
    "f_2 = dN/dV = \\frac{dN}{s^2d\\Omega ds}=f_1 \\frac{dz}{s^2ds}.\n",
    "\\end{align}\n",
    "We have \n",
    "\\begin{align}\n",
    "s = \\int\\frac{cdz}{H_0\\sqrt{(1+z)^3 \\Omega_m + \\Omega_{\\Lambda}}},\n",
    "\\end{align}\n",
    "hence,\n",
    "\\begin{align}\n",
    "f_2 = \\frac{f_1}{c s^2} H_0\\sqrt{(1+z)^3 \\Omega_m + \\Omega_{\\Lambda}}.\n",
    "\\end{align}"
   ]
  },
  {
   "cell_type": "code",
   "execution_count": 1,
   "id": "95f3a2fd-a17f-4481-aff6-15369b5e017e",
   "metadata": {
    "execution": {
     "iopub.execute_input": "2023-08-20T13:30:21.931279Z",
     "iopub.status.busy": "2023-08-20T13:30:21.931147Z",
     "iopub.status.idle": "2023-08-20T13:30:22.747634Z",
     "shell.execute_reply": "2023-08-20T13:30:22.747148Z",
     "shell.execute_reply.started": "2023-08-20T13:30:21.931262Z"
    },
    "tags": []
   },
   "outputs": [
    {
     "name": "stdout",
     "output_type": "stream",
     "text": [
      "Populating the interactive namespace from numpy and matplotlib\n"
     ]
    }
   ],
   "source": [
    "%pylab inline"
   ]
  },
  {
   "cell_type": "code",
   "execution_count": 2,
   "id": "dbb341b1-768f-4291-bb5a-56f97a626431",
   "metadata": {
    "execution": {
     "iopub.execute_input": "2023-08-20T13:30:22.748930Z",
     "iopub.status.busy": "2023-08-20T13:30:22.748769Z",
     "iopub.status.idle": "2023-08-20T13:30:23.160029Z",
     "shell.execute_reply": "2023-08-20T13:30:23.159538Z",
     "shell.execute_reply.started": "2023-08-20T13:30:22.748911Z"
    },
    "tags": []
   },
   "outputs": [],
   "source": [
    "import sys\n",
    "sys.path.append(\"/home/zjding/DESI_mockchallenge/bao_fit/pymodule_barn\")\n",
    "from mcmc_funs import growth_factor\n",
    "from scipy import interpolate, integrate"
   ]
  },
  {
   "cell_type": "code",
   "execution_count": 3,
   "id": "d7598973-270c-45b1-819e-41c55241e8b5",
   "metadata": {
    "execution": {
     "iopub.execute_input": "2023-08-20T13:30:23.161056Z",
     "iopub.status.busy": "2023-08-20T13:30:23.160905Z",
     "iopub.status.idle": "2023-08-20T13:30:23.167040Z",
     "shell.execute_reply": "2023-08-20T13:30:23.166624Z",
     "shell.execute_reply.started": "2023-08-20T13:30:23.161038Z"
    },
    "tags": []
   },
   "outputs": [],
   "source": [
    "def Sigma2_dd_integrand(k, splPlin, R_bao, Sigma2_sm):\n",
    "    Pk_lin_0 = splPlin(k)\n",
    "    Sm_kernel = np.exp(-0.5*k*k * Sigma2_sm)        # 1/2 factor consistent with the convention of the smoothing factor in MC\n",
    "    return Pk_lin_0*(1.0-Sm_kernel)**2.0\n",
    "\n",
    "def cal_growth_rate(a_z, omega_m):\n",
    "    a_z_p = a_z+0.01\n",
    "    a_z_m = a_z-0.01\n",
    "    D_p = growth_factor(1./a_z_p-1, omega_m)\n",
    "    D_m = growth_factor(1./a_z_m-1, omega_m)\n",
    "    f = (np.log(D_p)-np.log(D_m))/(np.log(a_z_p) - np.log(a_z_m))\n",
    "    return f\n",
    "\n",
    "def comoving_dis_fun(z, Omega_m, speed_c):\n",
    "    res = speed_c/(100.0 * (Omega_m*(1+z)**3 + (1-Omega_m))**0.5) \n",
    "    return res\n",
    "\n",
    "def volden_from_surfaceden(f1, z, Omega_m, speed_c):\n",
    "    s = integrate.quad(comoving_dis_fun, 0., z, args=(Omega_m, speed_c))[0]\n",
    "    f2 = f1 / (s**2.0 * comoving_dis_fun(z, Omega_m, speed_c))\n",
    "    return f2"
   ]
  },
  {
   "cell_type": "code",
   "execution_count": 4,
   "id": "6375af4f-b9ec-40a3-ac0d-20ca628466d5",
   "metadata": {
    "execution": {
     "iopub.execute_input": "2023-08-20T13:30:23.167817Z",
     "iopub.status.busy": "2023-08-20T13:30:23.167678Z",
     "iopub.status.idle": "2023-08-20T13:30:23.176655Z",
     "shell.execute_reply": "2023-08-20T13:30:23.176197Z",
     "shell.execute_reply.started": "2023-08-20T13:30:23.167800Z"
    },
    "tags": []
   },
   "outputs": [
    {
     "name": "stdout",
     "output_type": "stream",
     "text": [
      "41252.96124941928\n"
     ]
    }
   ],
   "source": [
    "Omega_m = 0.3075\n",
    "speed_c = 299792.458    # speed of light, km/s\n",
    "skyarea_total = 4*np.pi * (180./np.pi)**2.0    # unit: deg^2\n",
    "print(skyarea_total)\n",
    "deg2_per_str = 1/(180./np.pi)**2.0    # deg^2 to steradian "
   ]
  },
  {
   "cell_type": "markdown",
   "id": "03b15631-8264-489f-9366-d89cac05d120",
   "metadata": {},
   "source": [
    "## below is based on Table 2"
   ]
  },
  {
   "cell_type": "code",
   "execution_count": 5,
   "id": "444b1344-5c92-4f9b-b088-f3c4f9050b14",
   "metadata": {
    "execution": {
     "iopub.execute_input": "2023-08-20T13:30:23.177386Z",
     "iopub.status.busy": "2023-08-20T13:30:23.177256Z",
     "iopub.status.idle": "2023-08-20T13:30:23.184386Z",
     "shell.execute_reply": "2023-08-20T13:30:23.183977Z",
     "shell.execute_reply.started": "2023-08-20T13:30:23.177370Z"
    },
    "tags": []
   },
   "outputs": [],
   "source": [
    "zmin_array = np.array([0.6, 0.8, 1.0, 1.2, 1.4, 1.6, 2.0])\n",
    "zmax_array = np.array([0.8, 1.0, 1.2, 1.4, 1.6, 2.0, 2.4])"
   ]
  },
  {
   "cell_type": "code",
   "execution_count": 6,
   "id": "3fd01e84-9a84-4430-89c2-2b10733a42a8",
   "metadata": {
    "execution": {
     "iopub.execute_input": "2023-08-20T13:30:23.185109Z",
     "iopub.status.busy": "2023-08-20T13:30:23.184980Z",
     "iopub.status.idle": "2023-08-20T13:30:23.192050Z",
     "shell.execute_reply": "2023-08-20T13:30:23.191641Z",
     "shell.execute_reply.started": "2023-08-20T13:30:23.185094Z"
    },
    "tags": []
   },
   "outputs": [],
   "source": [
    "zmid_array = (zmin_array + zmax_array)/2.0\n",
    "n_z = np.array([1.9, 6.0, 5.8, 7.8, 5.5, 3.1, 2.7])/10**4"
   ]
  },
  {
   "cell_type": "code",
   "execution_count": 7,
   "id": "ae644d26-ba5f-46c0-b333-5f5ce1052907",
   "metadata": {
    "execution": {
     "iopub.execute_input": "2023-08-20T13:30:23.192779Z",
     "iopub.status.busy": "2023-08-20T13:30:23.192649Z",
     "iopub.status.idle": "2023-08-20T13:30:23.206063Z",
     "shell.execute_reply": "2023-08-20T13:30:23.205634Z",
     "shell.execute_reply.started": "2023-08-20T13:30:23.192764Z"
    },
    "tags": []
   },
   "outputs": [],
   "source": [
    "# input (theoretical) linear power spectrum\n",
    "ifile_pklin = \"/home/zjding/DESI_mockchallenge/bao_fit/stage2_3Gpc_postrec/data/plin_model/Pk_Planck15_Table4.txt\"\n",
    "kwig, Plin_wig = np.loadtxt(ifile_pklin, dtype='f8', comments='#', unpack=True) \n",
    "splPlin = interpolate.InterpolatedUnivariateSpline(kwig, Plin_wig)"
   ]
  },
  {
   "cell_type": "code",
   "execution_count": 8,
   "id": "2f4a3c21-26ee-4875-9a7e-ae53f0cd0978",
   "metadata": {
    "execution": {
     "iopub.execute_input": "2023-08-20T13:30:23.207270Z",
     "iopub.status.busy": "2023-08-20T13:30:23.207131Z",
     "iopub.status.idle": "2023-08-20T13:30:23.211286Z",
     "shell.execute_reply": "2023-08-20T13:30:23.210856Z",
     "shell.execute_reply.started": "2023-08-20T13:30:23.207253Z"
    },
    "tags": []
   },
   "outputs": [
    {
     "name": "stdout",
     "output_type": "stream",
     "text": [
      "[0.81315152 0.8560412  0.88775796 0.911352   0.92907736 0.94806607\n",
      " 0.96436808] [1.18 1.26 1.34 1.42 1.5  1.62 1.78]\n"
     ]
    }
   ],
   "source": [
    "## calculate growth rate\n",
    "a_array = 1./(1+zmid_array)\n",
    "f_array = cal_growth_rate(a_array, Omega_m)\n",
    "bias_array = np.array([1.18, 1.26, 1.34, 1.42, 1.50, 1.62, 1.78])\n",
    "print(f_array, bias_array)"
   ]
  },
  {
   "cell_type": "code",
   "execution_count": 9,
   "id": "c1133e0e-fb15-4658-9114-15a0868940ed",
   "metadata": {
    "execution": {
     "iopub.execute_input": "2023-08-20T13:30:23.212094Z",
     "iopub.status.busy": "2023-08-20T13:30:23.211962Z",
     "iopub.status.idle": "2023-08-20T13:30:23.279454Z",
     "shell.execute_reply": "2023-08-20T13:30:23.279002Z",
     "shell.execute_reply.started": "2023-08-20T13:30:23.212079Z"
    },
    "tags": []
   },
   "outputs": [
    {
     "name": "stdout",
     "output_type": "stream",
     "text": [
      "z, f: 0.7 0.8131515230121833\n",
      "Sigma_z, Sigma_xy: 10.584482316248536 5.8376159862605235\n",
      "z, f: 0.9 0.8560412044962498\n",
      "Sigma_z, Sigma_xy: 9.87362179333493 5.319721226778875\n",
      "z, f: 1.1 0.8877579625451413\n",
      "Sigma_z, Sigma_xy: 9.202704940001974 4.8749390136829645\n",
      "z, f: 1.2999999999999998 0.911351999890697\n",
      "Sigma_z, Sigma_xy: 8.585288288440985 4.491735844016144\n",
      "z, f: 1.5 0.9290773608253158\n",
      "Sigma_z, Sigma_xy: 8.024737620832687 4.159883778533106\n",
      "z, f: 1.8 0.948066071462095\n",
      "Sigma_z, Sigma_xy: 7.285655769124769 3.7399428468340488\n",
      "z, f: 2.2 0.9643680826720901\n",
      "Sigma_z, Sigma_xy: 6.465581057573697 3.2914305188560684\n"
     ]
    }
   ],
   "source": [
    "q_max = 100.0\n",
    "Sigma_sm = 1.e4    # a very large number for pre-recon\n",
    "G_0 = growth_factor(0.0, Omega_m)        # G_0 at z=0, normalization factor\n",
    "Sigma_z_list = []\n",
    "Sigma_xy_list = []\n",
    "for z, f in zip(zmid_array, f_array):\n",
    "    print(\"z, f:\", z, f)\n",
    "    norm_gf = growth_factor(z, Omega_m)/G_0\n",
    "    const = 1.0/(6.0*np.pi**2.0) * norm_gf**2.0\n",
    "    \n",
    "\n",
    "    Sigma2_sm = Sigma_sm **2.0\n",
    "    Sigma2_dd = const * integrate.quad(Sigma2_dd_integrand, kwig[0], 100.0, args=(splPlin, q_max, Sigma2_sm), epsabs=1.e-4, epsrel=1.e-4)[0]\n",
    "    Sigma_xy = (2.0*Sigma2_dd)**0.5         # There is a factor of 2 due to different expression between Eq. 84 of Blanchard paper and the usual one in the BOSS analysis.\n",
    "    Sigma_z = (1.0+f)*Sigma_xy\n",
    "    print(\"Sigma_z, Sigma_xy:\", Sigma_z, Sigma_xy)\n",
    "    Sigma_z_list.append(Sigma_z)\n",
    "    Sigma_xy_list.append(Sigma_xy)"
   ]
  },
  {
   "cell_type": "code",
   "execution_count": 10,
   "id": "ee01feec-693a-4ebc-a5b6-66f9de05b086",
   "metadata": {
    "execution": {
     "iopub.execute_input": "2023-08-20T13:30:23.280231Z",
     "iopub.status.busy": "2023-08-20T13:30:23.280097Z",
     "iopub.status.idle": "2023-08-20T13:30:23.363826Z",
     "shell.execute_reply": "2023-08-20T13:30:23.363397Z",
     "shell.execute_reply.started": "2023-08-20T13:30:23.280215Z"
    },
    "tags": []
   },
   "outputs": [],
   "source": [
    "output = np.array([zmin_array, zmax_array, n_z, bias_array, f_array, np.array(Sigma_z_list), np.array(Sigma_xy_list)]).T\n",
    "header = \"z_low   z_up   n(z) [h/Mpc]^3   bias    growth_rate(f)     Sigma_z     Sigma_xy\"\n",
    "ofile = \"./nz_bias_f_Sigmanl_Takada2014.txt\"\n",
    "np.savetxt(ofile, output, fmt=\"%.7e\", header=header, comments='#')"
   ]
  },
  {
   "cell_type": "code",
   "execution_count": null,
   "id": "efd4a249-d476-4d64-92fa-ccc4bc3233e5",
   "metadata": {},
   "outputs": [],
   "source": []
  }
 ],
 "metadata": {
  "kernelspec": {
   "display_name": "miniworkshop",
   "language": "python",
   "name": "miniworkshop"
  },
  "language_info": {
   "codemirror_mode": {
    "name": "ipython",
    "version": 3
   },
   "file_extension": ".py",
   "mimetype": "text/x-python",
   "name": "python",
   "nbconvert_exporter": "python",
   "pygments_lexer": "ipython3",
   "version": "3.8.3"
  }
 },
 "nbformat": 4,
 "nbformat_minor": 5
}
