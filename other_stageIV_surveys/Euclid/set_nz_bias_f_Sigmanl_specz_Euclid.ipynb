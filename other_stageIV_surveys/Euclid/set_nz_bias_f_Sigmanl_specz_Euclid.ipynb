{
 "cells": [
  {
   "cell_type": "markdown",
   "id": "da289849-7465-457f-a729-229e191ebafe",
   "metadata": {},
   "source": [
    "## From Table 3 of Blanchard et al. 2020 (arXiv:1910.09273), we make a file for the galaxy number density distribution. --08-18-2023\n",
    "Take reference from /home/zjding/csst_bao/fisher_pkmu/parameter_preparation/Sigma_nl_linear_order.ipynb"
   ]
  },
  {
   "cell_type": "code",
   "execution_count": 1,
   "id": "95f3a2fd-a17f-4481-aff6-15369b5e017e",
   "metadata": {
    "execution": {
     "iopub.execute_input": "2023-08-18T06:48:52.066043Z",
     "iopub.status.busy": "2023-08-18T06:48:52.065915Z",
     "iopub.status.idle": "2023-08-18T06:48:52.836139Z",
     "shell.execute_reply": "2023-08-18T06:48:52.835453Z",
     "shell.execute_reply.started": "2023-08-18T06:48:52.066025Z"
    },
    "tags": []
   },
   "outputs": [
    {
     "name": "stdout",
     "output_type": "stream",
     "text": [
      "Populating the interactive namespace from numpy and matplotlib\n"
     ]
    }
   ],
   "source": [
    "%pylab inline"
   ]
  },
  {
   "cell_type": "code",
   "execution_count": 2,
   "id": "dbb341b1-768f-4291-bb5a-56f97a626431",
   "metadata": {
    "execution": {
     "iopub.execute_input": "2023-08-18T06:48:52.837160Z",
     "iopub.status.busy": "2023-08-18T06:48:52.836999Z",
     "iopub.status.idle": "2023-08-18T06:48:53.147434Z",
     "shell.execute_reply": "2023-08-18T06:48:53.146834Z",
     "shell.execute_reply.started": "2023-08-18T06:48:52.837141Z"
    },
    "tags": []
   },
   "outputs": [],
   "source": [
    "import sys\n",
    "sys.path.append(\"/home/zjding/DESI_mockchallenge/bao_fit/pymodule_barn\")\n",
    "from mcmc_funs import growth_factor\n",
    "from scipy import interpolate, integrate"
   ]
  },
  {
   "cell_type": "code",
   "execution_count": 3,
   "id": "d7598973-270c-45b1-819e-41c55241e8b5",
   "metadata": {
    "execution": {
     "iopub.execute_input": "2023-08-18T06:48:53.164129Z",
     "iopub.status.busy": "2023-08-18T06:48:53.163992Z",
     "iopub.status.idle": "2023-08-18T06:48:53.168516Z",
     "shell.execute_reply": "2023-08-18T06:48:53.168099Z",
     "shell.execute_reply.started": "2023-08-18T06:48:53.164112Z"
    },
    "tags": []
   },
   "outputs": [],
   "source": [
    "def Sigma2_dd_integrand(k, splPlin, R_bao, Sigma2_sm):\n",
    "    Pk_lin_0 = splPlin(k)\n",
    "    Sm_kernel = np.exp(-0.5*k*k * Sigma2_sm)        # 1/2 factor consistent with the convention of the smoothing factor in MC\n",
    "    return Pk_lin_0*(1.0-Sm_kernel)**2.0\n",
    "\n",
    "def cal_growth_rate(a_z, omega_m):\n",
    "    a_z_p = a_z+0.01\n",
    "    a_z_m = a_z-0.01\n",
    "    D_p = growth_factor(1./a_z_p-1, omega_m)\n",
    "    D_m = growth_factor(1./a_z_m-1, omega_m)\n",
    "    f = (np.log(D_p)-np.log(D_m))/(np.log(a_z_p) - np.log(a_z_m))\n",
    "    return f"
   ]
  },
  {
   "cell_type": "code",
   "execution_count": 4,
   "id": "6375af4f-b9ec-40a3-ac0d-20ca628466d5",
   "metadata": {
    "execution": {
     "iopub.execute_input": "2023-08-18T06:49:08.220570Z",
     "iopub.status.busy": "2023-08-18T06:49:08.220329Z",
     "iopub.status.idle": "2023-08-18T06:49:08.223201Z",
     "shell.execute_reply": "2023-08-18T06:49:08.222719Z",
     "shell.execute_reply.started": "2023-08-18T06:49:08.220546Z"
    },
    "tags": []
   },
   "outputs": [],
   "source": [
    "Omega_m = 0.3075"
   ]
  },
  {
   "cell_type": "code",
   "execution_count": 5,
   "id": "444b1344-5c92-4f9b-b088-f3c4f9050b14",
   "metadata": {
    "execution": {
     "iopub.execute_input": "2023-08-18T06:49:08.962624Z",
     "iopub.status.busy": "2023-08-18T06:49:08.962387Z",
     "iopub.status.idle": "2023-08-18T06:49:09.581058Z",
     "shell.execute_reply": "2023-08-18T06:49:09.580496Z",
     "shell.execute_reply.started": "2023-08-18T06:49:08.962592Z"
    },
    "tags": []
   },
   "outputs": [],
   "source": [
    "zmin_array = np.array([0.9, 1.1, 1.3, 1.5])\n",
    "zmax_array = np.array([1.1, 1.3, 1.5, 1.8])\n",
    "dN_dOmegadz = np.array([1815.0, 1701.5, 1410.0, 940.97])\n",
    "n_z = np.array([6.86e-4, 5.58e-4, 4.21e-4, 2.61e-4])\n",
    "V_z = np.array([7.94e3, 9.15e3, 10.05e3, 16.22e3])\n",
    "bias_array = np.array([1.46, 1.61, 1.75, 1.90])"
   ]
  },
  {
   "cell_type": "code",
   "execution_count": 6,
   "id": "3fd01e84-9a84-4430-89c2-2b10733a42a8",
   "metadata": {
    "execution": {
     "iopub.execute_input": "2023-08-18T06:49:10.924903Z",
     "iopub.status.busy": "2023-08-18T06:49:10.924660Z",
     "iopub.status.idle": "2023-08-18T06:49:10.928991Z",
     "shell.execute_reply": "2023-08-18T06:49:10.928493Z",
     "shell.execute_reply.started": "2023-08-18T06:49:10.924879Z"
    },
    "tags": []
   },
   "outputs": [
    {
     "name": "stdout",
     "output_type": "stream",
     "text": [
      "[0.87308549 0.90041242 0.92083436 0.93951173]\n"
     ]
    }
   ],
   "source": [
    "zmid_array = (zmin_array + zmax_array)/2.0\n",
    "a_array = 1./(1+zmid_array)\n",
    "f_array = cal_growth_rate(a_array, Omega_m)\n",
    "print(f_array)"
   ]
  },
  {
   "cell_type": "code",
   "execution_count": 7,
   "id": "ae644d26-ba5f-46c0-b333-5f5ce1052907",
   "metadata": {
    "execution": {
     "iopub.execute_input": "2023-08-18T06:49:11.924482Z",
     "iopub.status.busy": "2023-08-18T06:49:11.924242Z",
     "iopub.status.idle": "2023-08-18T06:49:11.934704Z",
     "shell.execute_reply": "2023-08-18T06:49:11.934248Z",
     "shell.execute_reply.started": "2023-08-18T06:49:11.924457Z"
    },
    "tags": []
   },
   "outputs": [],
   "source": [
    "# input (theoretical) linear power spectrum\n",
    "ifile_pklin = \"/home/zjding/DESI_mockchallenge/bao_fit/stage2_3Gpc_postrec/data/plin_model/Pk_Planck15_Table4.txt\"\n",
    "kwig, Plin_wig = np.loadtxt(ifile_pklin, dtype='f8', comments='#', unpack=True) \n",
    "splPlin = interpolate.InterpolatedUnivariateSpline(kwig, Plin_wig)"
   ]
  },
  {
   "cell_type": "code",
   "execution_count": 8,
   "id": "c1133e0e-fb15-4658-9114-15a0868940ed",
   "metadata": {
    "execution": {
     "iopub.execute_input": "2023-08-18T06:49:12.924393Z",
     "iopub.status.busy": "2023-08-18T06:49:12.924157Z",
     "iopub.status.idle": "2023-08-18T06:49:12.964102Z",
     "shell.execute_reply": "2023-08-18T06:49:12.963641Z",
     "shell.execute_reply.started": "2023-08-18T06:49:12.924370Z"
    },
    "tags": []
   },
   "outputs": [
    {
     "name": "stdout",
     "output_type": "stream",
     "text": [
      "z, f: 1.0 0.8730854886084303\n",
      "Sigma_z, Sigma_xy: 9.532009751892824 5.088934706858699\n",
      "z, f: 1.2000000000000002 0.9004124177444028\n",
      "Sigma_z, Sigma_xy: 8.886929168555357 4.676316090958426\n",
      "z, f: 1.4 0.9208343615755349\n",
      "Sigma_z, Sigma_xy: 8.297942345315406 4.31996767202204\n",
      "z, f: 1.65 0.9395117319777302\n",
      "Sigma_z, Sigma_xy: 7.64060204302809 3.939446159078877\n"
     ]
    }
   ],
   "source": [
    "q_max = 100.0\n",
    "Sigma_sm = 1.e4    # a very large number for pre-recon\n",
    "G_0 = growth_factor(0.0, Omega_m)        # G_0 at z=0, normalization factor\n",
    "Sigma_z_list = []\n",
    "Sigma_xy_list = []\n",
    "for z, f in zip(zmid_array, f_array):\n",
    "    print(\"z, f:\", z, f)\n",
    "    norm_gf = growth_factor(z, Omega_m)/G_0\n",
    "    const = 1.0/(6.0*np.pi**2.0) * norm_gf**2.0\n",
    "    \n",
    "\n",
    "    Sigma2_sm = Sigma_sm **2.0\n",
    "    Sigma2_dd = const * integrate.quad(Sigma2_dd_integrand, kwig[0], 100.0, args=(splPlin, q_max, Sigma2_sm), epsabs=1.e-4, epsrel=1.e-4)[0]\n",
    "    Sigma_xy = (2.0*Sigma2_dd)**0.5         # There is a factor of 2 due to different expression between Eq. 84 of Blanchard paper and the usual one in the BOSS analysis.\n",
    "    Sigma_z = (1.0+f)*Sigma_xy\n",
    "    print(\"Sigma_z, Sigma_xy:\", Sigma_z, Sigma_xy)\n",
    "    Sigma_z_list.append(Sigma_z)\n",
    "    Sigma_xy_list.append(Sigma_xy)"
   ]
  },
  {
   "cell_type": "code",
   "execution_count": 9,
   "id": "ee01feec-693a-4ebc-a5b6-66f9de05b086",
   "metadata": {
    "execution": {
     "iopub.execute_input": "2023-08-18T06:49:13.984846Z",
     "iopub.status.busy": "2023-08-18T06:49:13.984616Z",
     "iopub.status.idle": "2023-08-18T06:49:13.996654Z",
     "shell.execute_reply": "2023-08-18T06:49:13.996059Z",
     "shell.execute_reply.started": "2023-08-18T06:49:13.984822Z"
    },
    "tags": []
   },
   "outputs": [],
   "source": [
    "output = np.array([zmin_array, zmax_array, n_z, bias_array, f_array, np.array(Sigma_z_list), np.array(Sigma_xy_list)]).T\n",
    "header = \"z_low   z_up   n(z) [h/Mpc]^3   bias    growth_rate(f)     Sigma_z     Sigma_xy\"\n",
    "ofile = \"./nz_bias_f_Sigmanl_Blanchard2020.txt\"\n",
    "np.savetxt(ofile, output, fmt=\"%.7e\", header=header, comments='#')"
   ]
  },
  {
   "cell_type": "code",
   "execution_count": null,
   "id": "efd4a249-d476-4d64-92fa-ccc4bc3233e5",
   "metadata": {},
   "outputs": [],
   "source": []
  }
 ],
 "metadata": {
  "kernelspec": {
   "display_name": "miniworkshop",
   "language": "python",
   "name": "miniworkshop"
  },
  "language_info": {
   "codemirror_mode": {
    "name": "ipython",
    "version": 3
   },
   "file_extension": ".py",
   "mimetype": "text/x-python",
   "name": "python",
   "nbconvert_exporter": "python",
   "pygments_lexer": "ipython3",
   "version": "3.8.3"
  }
 },
 "nbformat": 4,
 "nbformat_minor": 5
}
