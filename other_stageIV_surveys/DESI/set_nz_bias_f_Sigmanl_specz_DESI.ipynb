{
 "cells": [
  {
   "cell_type": "markdown",
   "id": "da289849-7465-457f-a729-229e191ebafe",
   "metadata": {},
   "source": [
    "## We make a file for the galaxy number density distributions for different tracers. \n",
    "## Take reference from Validation of the Scientific Program for the Dark Energy Spectroscopic Instrument (arXiv:2306.06307)--08-19-2023\n",
    "Take reference from /home/zjding/csst_bao/fisher_pkmu/parameter_preparation/Sigma_nl_linear_order.ipynb"
   ]
  },
  {
   "cell_type": "markdown",
   "id": "0ad83bfe-a2e8-461e-93f7-a25b7565fb57",
   "metadata": {},
   "source": [
    "Derive the relation between the angular number density $\\frac{dN}{dzd\\Omega}$ and the volume number density $dN/dV$:\n",
    "\\begin{align}\n",
    "f_1 = \\frac{dN}{dzd\\Omega}\\\\\n",
    "f_2 = dN/dV = \\frac{dN}{s^2d\\Omega ds}=f_1 \\frac{dz}{s^2ds}.\n",
    "\\end{align}\n",
    "We have \n",
    "\\begin{align}\n",
    "s = \\int\\frac{cdz}{H_0\\sqrt{(1+z)^3 \\Omega_m + \\Omega_{\\Lambda}}},\n",
    "\\end{align}\n",
    "hence,\n",
    "\\begin{align}\n",
    "f_2 = \\frac{f_1}{c s^2} H_0\\sqrt{(1+z)^3 \\Omega_m + \\Omega_{\\Lambda}}.\n",
    "\\end{align}"
   ]
  },
  {
   "cell_type": "code",
   "execution_count": 1,
   "id": "95f3a2fd-a17f-4481-aff6-15369b5e017e",
   "metadata": {
    "execution": {
     "iopub.execute_input": "2023-08-19T13:19:52.176957Z",
     "iopub.status.busy": "2023-08-19T13:19:52.176830Z",
     "iopub.status.idle": "2023-08-19T13:19:53.013243Z",
     "shell.execute_reply": "2023-08-19T13:19:53.012547Z",
     "shell.execute_reply.started": "2023-08-19T13:19:52.176940Z"
    },
    "tags": []
   },
   "outputs": [
    {
     "name": "stdout",
     "output_type": "stream",
     "text": [
      "Populating the interactive namespace from numpy and matplotlib\n"
     ]
    }
   ],
   "source": [
    "%pylab inline"
   ]
  },
  {
   "cell_type": "code",
   "execution_count": 2,
   "id": "dbb341b1-768f-4291-bb5a-56f97a626431",
   "metadata": {
    "execution": {
     "iopub.execute_input": "2023-08-19T13:19:53.014281Z",
     "iopub.status.busy": "2023-08-19T13:19:53.014121Z",
     "iopub.status.idle": "2023-08-19T13:19:53.414935Z",
     "shell.execute_reply": "2023-08-19T13:19:53.414317Z",
     "shell.execute_reply.started": "2023-08-19T13:19:53.014262Z"
    },
    "tags": []
   },
   "outputs": [],
   "source": [
    "import sys\n",
    "sys.path.append(\"/home/zjding/DESI_mockchallenge/bao_fit/pymodule_barn\")\n",
    "from mcmc_funs import growth_factor\n",
    "from scipy import interpolate, integrate"
   ]
  },
  {
   "cell_type": "code",
   "execution_count": 3,
   "id": "d7598973-270c-45b1-819e-41c55241e8b5",
   "metadata": {
    "execution": {
     "iopub.execute_input": "2023-08-19T13:19:53.416528Z",
     "iopub.status.busy": "2023-08-19T13:19:53.416370Z",
     "iopub.status.idle": "2023-08-19T13:19:53.422575Z",
     "shell.execute_reply": "2023-08-19T13:19:53.422067Z",
     "shell.execute_reply.started": "2023-08-19T13:19:53.416510Z"
    },
    "tags": []
   },
   "outputs": [],
   "source": [
    "def Sigma2_dd_integrand(k, splPlin, R_bao, Sigma2_sm):\n",
    "    Pk_lin_0 = splPlin(k)\n",
    "    Sm_kernel = np.exp(-0.5*k*k * Sigma2_sm)        # 1/2 factor consistent with the convention of the smoothing factor in MC\n",
    "    return Pk_lin_0*(1.0-Sm_kernel)**2.0\n",
    "\n",
    "def cal_growth_rate(a_z, omega_m):\n",
    "    a_z_p = a_z+0.01\n",
    "    a_z_m = a_z-0.01\n",
    "    D_p = growth_factor(1./a_z_p-1, omega_m)\n",
    "    D_m = growth_factor(1./a_z_m-1, omega_m)\n",
    "    f = (np.log(D_p)-np.log(D_m))/(np.log(a_z_p) - np.log(a_z_m))\n",
    "    return f\n",
    "\n",
    "def comoving_dis_fun(z, Omega_m, speed_c):\n",
    "    res = speed_c/(100.0 * (Omega_m*(1+z)**3 + (1-Omega_m))**0.5) \n",
    "    return res\n",
    "\n",
    "def volden_from_surfaceden(f1, z, Omega_m, speed_c):\n",
    "    s = integrate.quad(comoving_dis_fun, 0., z, args=(Omega_m, speed_c))[0]\n",
    "    f2 = f1 / (s**2.0 * comoving_dis_fun(z, Omega_m, speed_c))\n",
    "    return f2"
   ]
  },
  {
   "cell_type": "code",
   "execution_count": 4,
   "id": "6375af4f-b9ec-40a3-ac0d-20ca628466d5",
   "metadata": {
    "execution": {
     "iopub.execute_input": "2023-08-19T13:19:53.423663Z",
     "iopub.status.busy": "2023-08-19T13:19:53.423512Z",
     "iopub.status.idle": "2023-08-19T13:19:53.433866Z",
     "shell.execute_reply": "2023-08-19T13:19:53.433333Z",
     "shell.execute_reply.started": "2023-08-19T13:19:53.423646Z"
    },
    "tags": []
   },
   "outputs": [
    {
     "name": "stdout",
     "output_type": "stream",
     "text": [
      "41252.96124941928\n"
     ]
    }
   ],
   "source": [
    "Omega_m = 0.3075\n",
    "speed_c = 299792.458    # speed of light, km/s\n",
    "skyarea_total = 4*np.pi * (180./np.pi)**2.0    # unit: deg^2\n",
    "print(skyarea_total)\n",
    "deg2_per_str = 1/(180./np.pi)**2.0    # deg^2 to steradian "
   ]
  },
  {
   "cell_type": "code",
   "execution_count": 5,
   "id": "c8d582b3-3ba4-447d-87a6-a2d4852b5165",
   "metadata": {
    "execution": {
     "iopub.execute_input": "2023-08-19T13:19:53.434625Z",
     "iopub.status.busy": "2023-08-19T13:19:53.434484Z",
     "iopub.status.idle": "2023-08-19T13:19:53.450033Z",
     "shell.execute_reply": "2023-08-19T13:19:53.449547Z",
     "shell.execute_reply.started": "2023-08-19T13:19:53.434600Z"
    },
    "tags": []
   },
   "outputs": [],
   "source": [
    "# input (theoretical) linear power spectrum\n",
    "ifile_pklin = \"/home/zjding/DESI_mockchallenge/bao_fit/stage2_3Gpc_postrec/data/plin_model/Pk_Planck15_Table4.txt\"\n",
    "kwig, Plin_wig = np.loadtxt(ifile_pklin, dtype='f8', comments='#', unpack=True) \n",
    "splPlin = interpolate.InterpolatedUnivariateSpline(kwig, Plin_wig)"
   ]
  },
  {
   "cell_type": "markdown",
   "id": "03b15631-8264-489f-9366-d89cac05d120",
   "metadata": {},
   "source": [
    "## using Table 7 of the paper\n",
    "using Table 2.3 of DESI white paper (arXiv:1611.00036) gives under-estimation on LRG number density"
   ]
  },
  {
   "cell_type": "code",
   "execution_count": 6,
   "id": "dae5ec7a-876b-4764-a304-715d47adc330",
   "metadata": {
    "execution": {
     "iopub.execute_input": "2023-08-19T13:19:53.450814Z",
     "iopub.status.busy": "2023-08-19T13:19:53.450682Z",
     "iopub.status.idle": "2023-08-19T13:19:53.457882Z",
     "shell.execute_reply": "2023-08-19T13:19:53.457377Z",
     "shell.execute_reply.started": "2023-08-19T13:19:53.450797Z"
    },
    "tags": []
   },
   "outputs": [],
   "source": [
    "def param_workshop(z_input, dN_dOmega, dz, b_0, z_output):\n",
    "    #z_input = (zmin_array+zmax_array)/2.0\n",
    "    G_0 = growth_factor(0.0, Omega_m)                 # G_0 at z=0, normalization factor\n",
    "    Dz_array = growth_factor(z_output, Omega_m)/G_0   # the normalized linear growth factor\n",
    "    bias_array = b_0/Dz_array\n",
    "    \n",
    "    a_array = 1./(1+z_output)\n",
    "    f_array = cal_growth_rate(a_array, Omega_m)\n",
    "    \n",
    "    dN_dOmegadz = dN_dOmega/dz\n",
    "    dN_dstrdz = dN_dOmegadz /deg2_per_str\n",
    "    spl_f1 = interpolate.InterpolatedUnivariateSpline(z_input, dN_dstrdz)\n",
    "    \n",
    "    # output n(z) galaxy volume number density\n",
    "    nz_list = []\n",
    "    for z in z_output:\n",
    "        nz = volden_from_surfaceden(spl_f1(z), z, Omega_m, speed_c)\n",
    "        nz_list.append(nz)\n",
    "    n_z = np.array(nz_list)\n",
    "    \n",
    "    ## calculate the nonlinear BAO damping scales Sigma_xy, Sigma_z\n",
    "    q_max = 100.0\n",
    "    Sigma_sm = 1.e4    # a very large number for pre-recon\n",
    "    Sigma_z_list = []\n",
    "    Sigma_xy_list = []\n",
    "    for z, f in zip(z_output, f_array):\n",
    "        print(\"z, f: %.2f, %.3f\"%(z, f))\n",
    "        norm_gf = growth_factor(z, Omega_m)/G_0\n",
    "        const = 1.0/(6.0*np.pi**2.0) * norm_gf**2.0\n",
    "\n",
    "        Sigma2_sm = Sigma_sm **2.0\n",
    "        Sigma2_dd = const * integrate.quad(Sigma2_dd_integrand, kwig[0], 100.0, args=(splPlin, q_max, Sigma2_sm), epsabs=1.e-4, epsrel=1.e-4)[0]\n",
    "        Sigma_xy = (2.0*Sigma2_dd)**0.5         # There is a factor of 2 due to different expression between Eq. 84 of Blanchard paper and the usual one in the BOSS analysis.\n",
    "        Sigma_z = (1.0+f)*Sigma_xy\n",
    "        print(\"Sigma_z, Sigma_xy:\", Sigma_z, Sigma_xy)\n",
    "        Sigma_z_list.append(Sigma_z)\n",
    "        Sigma_xy_list.append(Sigma_xy)\n",
    "    \n",
    "    \n",
    "    return n_z, bias_array, f_array, np.array(Sigma_z_list), np.array(Sigma_xy_list)"
   ]
  },
  {
   "cell_type": "code",
   "execution_count": 7,
   "id": "79557bb7-8116-4b9a-b2fc-7038b590b56f",
   "metadata": {
    "execution": {
     "iopub.execute_input": "2023-08-19T13:19:53.458666Z",
     "iopub.status.busy": "2023-08-19T13:19:53.458523Z",
     "iopub.status.idle": "2023-08-19T13:19:53.470980Z",
     "shell.execute_reply": "2023-08-19T13:19:53.470496Z",
     "shell.execute_reply.started": "2023-08-19T13:19:53.458648Z"
    },
    "tags": []
   },
   "outputs": [],
   "source": [
    "tracer_list = ['BGS', 'LRG', 'ELG_LOP', 'QSO']\n",
    "zmin_in_dict = {'BGS': np.arange(0., 0.31, 0.1), 'LRG': np.arange(0.4, 1.01, 0.1),\n",
    "             'ELG_LOP': np.arange(1.1, 1.51, 0.1), 'QSO': np.arange(1.6, 2.01, 0.1)}\n",
    "zmax_in_dict = {'BGS': np.arange(0.1, 0.41, 0.1), 'LRG': np.arange(0.5, 1.11, 0.1),\n",
    "             'ELG_LOP': np.arange(1.2, 1.61, 0.1), 'QSO': np.arange(1.7, 2.11, 0.1)}\n",
    "dN_dOmega_dict = {'BGS': np.array([101.1, 231.3, 216.9, 97.3]),\n",
    "                  'LRG': np.array([47.5, 65.6, 80.0, 93.2, 99.3, 63.7, 28.3]),\n",
    "                  'ELG_LOP': np.array([108.0, 103.6, 97.1, 87.7, 55.4]),\n",
    "                  'QSO': np.array([12.1, 11.8, 11.1, 10.6, 9.5])}\n",
    "dz = 0.1\n",
    "b0_dict = {'BGS': 1.34, 'LRG': 1.7, 'ELG_LOP': 0.84, 'QSO': 1.2}\n",
    "\n",
    "\n",
    "## set output zbins to match with part of redshift bins of CSST, Euclid, Roman \n",
    "zmin_out_dict = {'BGS': np.array([0.0, 0.2]), 'LRG': np.array([0.4, 0.6, 0.8]),\n",
    "                 'ELG_LOP': np.array([1.1, 1.3]), 'QSO': np.array([1.6, 1.8])}\n",
    "zmax_out_dict = {'BGS': np.array([0.2, 0.4]), 'LRG': np.array([0.6, 0.8, 1.1]),\n",
    "                 'ELG_LOP': np.array([1.3, 1.6]), 'QSO': np.array([1.8, 2.1])}"
   ]
  },
  {
   "cell_type": "code",
   "execution_count": 8,
   "id": "900223c7-d195-4e95-ada0-23b13be97335",
   "metadata": {
    "execution": {
     "iopub.execute_input": "2023-08-19T13:19:53.471734Z",
     "iopub.status.busy": "2023-08-19T13:19:53.471596Z",
     "iopub.status.idle": "2023-08-19T13:19:53.675297Z",
     "shell.execute_reply": "2023-08-19T13:19:53.674737Z",
     "shell.execute_reply.started": "2023-08-19T13:19:53.471718Z"
    },
    "tags": []
   },
   "outputs": [
    {
     "name": "stdout",
     "output_type": "stream",
     "text": [
      "z, f: 0.05, 0.550\n",
      "Sigma_z, Sigma_xy: 12.61220647698538 8.137685127695319\n",
      "z, f: 0.15, 0.605\n",
      "Sigma_z, Sigma_xy: 12.395729236948172 7.721089043102608\n",
      "z, f: 0.25, 0.655\n",
      "Sigma_z, Sigma_xy: 12.126057327511521 7.325684554314015\n",
      "z, f: 0.35, 0.699\n",
      "Sigma_z, Sigma_xy: 11.816433678882081 6.953520345444755\n",
      "z, f: 0.45, 0.738\n",
      "Sigma_z, Sigma_xy: 11.479422995893685 6.605374307219208\n",
      "z, f: 0.55, 0.771\n",
      "Sigma_z, Sigma_xy: 11.126026763225271 6.281097439291702\n",
      "z, f: 0.65, 0.800\n",
      "Sigma_z, Sigma_xy: 10.765303451549093 5.979909250918312\n",
      "z, f: 0.75, 0.825\n",
      "Sigma_z, Sigma_xy: 10.404341996434216 5.700633096006943\n",
      "z, f: 0.85, 0.847\n",
      "Sigma_z, Sigma_xy: 10.048441331882573 5.441872665758699\n",
      "z, f: 0.95, 0.865\n",
      "Sigma_z, Sigma_xy: 9.701383309560105 5.202137597848794\n",
      "z, f: 1.05, 0.881\n",
      "Sigma_z, Sigma_xy: 9.365725864069223 4.979928488756738\n",
      "z, f: 1.15, 0.894\n",
      "Sigma_z, Sigma_xy: 9.043075815983187 4.773791332828013\n",
      "z, f: 1.25, 0.906\n",
      "Sigma_z, Sigma_xy: 8.734323134761887 4.582349947767653\n",
      "z, f: 1.35, 0.916\n",
      "Sigma_z, Sigma_xy: 8.439832016582303 4.404323142877724\n",
      "z, f: 1.45, 0.925\n",
      "Sigma_z, Sigma_xy: 8.159591267167423 4.2385316877117685\n",
      "z, f: 1.55, 0.933\n",
      "Sigma_z, Sigma_xy: 7.893329572701333 4.083898723256381\n",
      "z, f: 1.65, 0.940\n",
      "Sigma_z, Sigma_xy: 7.64060204302809 3.939446159078877\n",
      "z, f: 1.75, 0.945\n",
      "Sigma_z, Sigma_xy: 7.400854059271541 3.804288785942089\n",
      "z, f: 1.85, 0.951\n",
      "Sigma_z, Sigma_xy: 7.17346762532147 3.677627249954183\n",
      "z, f: 1.95, 0.955\n",
      "Sigma_z, Sigma_xy: 6.957794472059039 3.558740626464466\n",
      "z, f: 2.05, 0.959\n",
      "Sigma_z, Sigma_xy: 6.753179269935107 3.44697905261506\n"
     ]
    }
   ],
   "source": [
    "header = \"z_low   z_up   n(z) [h/Mpc]^3   bias    growth_rate(f)     Sigma_z     Sigma_xy\"\n",
    "output = np.empty((0, 7))\n",
    "for tracer in tracer_list:\n",
    "    zmin_in = zmin_in_dict[tracer]\n",
    "    zmax_in = zmax_in_dict[tracer]\n",
    "    zmid_in = (zmin_in + zmax_in)/2.0\n",
    "    dN_dOmega = dN_dOmega_dict[tracer]\n",
    "    b0 = b0_dict[tracer]\n",
    "    \n",
    "    zmid_out = zmid_in\n",
    "    nz_, bias_, f_, Sigmaz_, Sigmaxy_ = param_workshop(zmid_in, dN_dOmega, dz, b0, zmid_out)\n",
    "    temp = np.array([zmin_in, zmax_in, nz_, bias_, f_, Sigmaz_, Sigmaxy_]).T \n",
    "    \n",
    "    ofile = f\"./input/nz_bias_f_Sigmanl_DESI_{tracer}_Adame_2023a.txt\"\n",
    "    np.savetxt(ofile, temp, fmt=\"%.7e\", header=header, comments='#')\n",
    "    \n",
    "    output = np.vstack((output, temp))"
   ]
  },
  {
   "cell_type": "code",
   "execution_count": 9,
   "id": "ee01feec-693a-4ebc-a5b6-66f9de05b086",
   "metadata": {
    "execution": {
     "iopub.execute_input": "2023-08-19T13:19:53.676158Z",
     "iopub.status.busy": "2023-08-19T13:19:53.676018Z",
     "iopub.status.idle": "2023-08-19T13:19:53.684123Z",
     "shell.execute_reply": "2023-08-19T13:19:53.683635Z",
     "shell.execute_reply.started": "2023-08-19T13:19:53.676142Z"
    },
    "tags": []
   },
   "outputs": [],
   "source": [
    "ofile = \"./input/nz_bias_f_Sigmanl_DESI_alltracers_Adame_2023a.txt\"\n",
    "np.savetxt(ofile, output, fmt=\"%.7e\", header=header, comments='#')"
   ]
  },
  {
   "cell_type": "markdown",
   "id": "cf168ca5-75e4-4f07-b054-7849f4925366",
   "metadata": {},
   "source": [
    "## for the output with rebinning"
   ]
  },
  {
   "cell_type": "code",
   "execution_count": 10,
   "id": "a85cc8c4-d701-4d3f-98e2-51ff05d4aa88",
   "metadata": {
    "execution": {
     "iopub.execute_input": "2023-08-19T13:19:53.684859Z",
     "iopub.status.busy": "2023-08-19T13:19:53.684726Z",
     "iopub.status.idle": "2023-08-19T13:19:53.795686Z",
     "shell.execute_reply": "2023-08-19T13:19:53.795151Z",
     "shell.execute_reply.started": "2023-08-19T13:19:53.684842Z"
    },
    "tags": []
   },
   "outputs": [
    {
     "name": "stdout",
     "output_type": "stream",
     "text": [
      "z, f: 0.10, 0.578\n",
      "Sigma_z, Sigma_xy: 12.511434950564029 7.9269257926640915\n",
      "z, f: 0.30, 0.678\n",
      "Sigma_z, Sigma_xy: 11.975425109040154 7.13662322802798\n",
      "z, f: 0.50, 0.755\n",
      "Sigma_z, Sigma_xy: 11.30415973175205 6.4402892653369195\n",
      "z, f: 0.70, 0.813\n",
      "Sigma_z, Sigma_xy: 10.584482316248536 5.8376159862605235\n",
      "z, f: 0.95, 0.865\n",
      "Sigma_z, Sigma_xy: 9.701383309560258 5.202137597848797\n",
      "z, f: 1.20, 0.900\n",
      "Sigma_z, Sigma_xy: 8.886929168555357 4.676316090958426\n",
      "z, f: 1.45, 0.925\n",
      "Sigma_z, Sigma_xy: 8.159591267167423 4.2385316877117685\n",
      "z, f: 1.70, 0.943\n",
      "Sigma_z, Sigma_xy: 7.519143190800064 3.8707574590508727\n",
      "z, f: 1.95, 0.955\n",
      "Sigma_z, Sigma_xy: 6.957794472059039 3.558740626464466\n"
     ]
    }
   ],
   "source": [
    "output = np.empty((0, 7))\n",
    "odir = \"./input/rebin/\"\n",
    "for tracer in tracer_list:\n",
    "    zmin_in = zmin_in_dict[tracer]\n",
    "    zmax_in = zmax_in_dict[tracer]\n",
    "    zmid_in = (zmin_in + zmax_in)/2.0\n",
    "    dN_dOmega = dN_dOmega_dict[tracer]\n",
    "    b0 = b0_dict[tracer]\n",
    "    \n",
    "    zmin_out = zmin_out_dict[tracer]\n",
    "    zmax_out = zmax_out_dict[tracer]\n",
    "    zmid_out = (zmin_out + zmax_out)/2.0\n",
    "    \n",
    "    nz_, bias_, f_, Sigmaz_, Sigmaxy_ = param_workshop(zmid_in, dN_dOmega, dz, b0, zmid_out)\n",
    "    temp = np.array([zmin_out, zmax_out, nz_, bias_, f_, Sigmaz_, Sigmaxy_]).T \n",
    "    \n",
    "    ofile = odir + f\"nz_bias_f_Sigmanl_DESI_{tracer}_Adame_2023a.txt\"\n",
    "    np.savetxt(ofile, temp, fmt=\"%.7e\", header=header, comments='#')\n",
    "    \n",
    "    output = np.vstack((output, temp))\n",
    "ofile = odir + \"nz_bias_f_Sigmanl_DESI_alltracers_Adame_2023a.txt\"\n",
    "np.savetxt(ofile, output, fmt=\"%.7e\", header=header, comments='#')   "
   ]
  },
  {
   "cell_type": "code",
   "execution_count": null,
   "id": "03d14df3-e038-47c8-8ae8-4792e741ecc6",
   "metadata": {},
   "outputs": [],
   "source": []
  }
 ],
 "metadata": {
  "kernelspec": {
   "display_name": "miniworkshop",
   "language": "python",
   "name": "miniworkshop"
  },
  "language_info": {
   "codemirror_mode": {
    "name": "ipython",
    "version": 3
   },
   "file_extension": ".py",
   "mimetype": "text/x-python",
   "name": "python",
   "nbconvert_exporter": "python",
   "pygments_lexer": "ipython3",
   "version": "3.8.3"
  }
 },
 "nbformat": 4,
 "nbformat_minor": 5
}
